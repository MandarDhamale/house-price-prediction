{
 "cells": [
  {
   "cell_type": "code",
   "execution_count": 1,
   "id": "6b4139f7",
   "metadata": {},
   "outputs": [],
   "source": [
    "import pandas as pd\n",
    "from os import chdir\n",
    "chdir(\"C:/Users/manda/Documents/Notes/\")\n",
    "from warnings import filterwarnings\n",
    "filterwarnings(\"ignore\")"
   ]
  },
  {
   "cell_type": "code",
   "execution_count": 2,
   "id": "d4f9938b",
   "metadata": {},
   "outputs": [],
   "source": [
    "pd.set_option('display.max_rows', None)\n",
    "pd.set_option('display.max_columns', None)\n",
    "pd.set_option('display.width', None)\n",
    "pd.set_option('display.max_colwidth', None)"
   ]
  },
  {
   "cell_type": "code",
   "execution_count": 3,
   "id": "bf6911dd",
   "metadata": {},
   "outputs": [],
   "source": [
    "A = pd.read_csv(\"training_set.csv\")"
   ]
  },
  {
   "cell_type": "markdown",
   "id": "3ce564e7",
   "metadata": {},
   "source": [
    "# Dataset profile"
   ]
  },
  {
   "cell_type": "code",
   "execution_count": 4,
   "id": "0ca88035",
   "metadata": {},
   "outputs": [
    {
     "data": {
      "text/html": [
       "<div>\n",
       "<style scoped>\n",
       "    .dataframe tbody tr th:only-of-type {\n",
       "        vertical-align: middle;\n",
       "    }\n",
       "\n",
       "    .dataframe tbody tr th {\n",
       "        vertical-align: top;\n",
       "    }\n",
       "\n",
       "    .dataframe thead th {\n",
       "        text-align: right;\n",
       "    }\n",
       "</style>\n",
       "<table border=\"1\" class=\"dataframe\">\n",
       "  <thead>\n",
       "    <tr style=\"text-align: right;\">\n",
       "      <th></th>\n",
       "      <th>Id</th>\n",
       "      <th>MSSubClass</th>\n",
       "      <th>MSZoning</th>\n",
       "      <th>LotFrontage</th>\n",
       "      <th>LotArea</th>\n",
       "      <th>Street</th>\n",
       "      <th>Alley</th>\n",
       "      <th>LotShape</th>\n",
       "      <th>LandContour</th>\n",
       "      <th>Utilities</th>\n",
       "      <th>LotConfig</th>\n",
       "      <th>LandSlope</th>\n",
       "      <th>Neighborhood</th>\n",
       "      <th>Condition1</th>\n",
       "      <th>Condition2</th>\n",
       "      <th>BldgType</th>\n",
       "      <th>HouseStyle</th>\n",
       "      <th>OverallQual</th>\n",
       "      <th>OverallCond</th>\n",
       "      <th>YearBuilt</th>\n",
       "      <th>YearRemodAdd</th>\n",
       "      <th>RoofStyle</th>\n",
       "      <th>RoofMatl</th>\n",
       "      <th>Exterior1st</th>\n",
       "      <th>Exterior2nd</th>\n",
       "      <th>MasVnrType</th>\n",
       "      <th>MasVnrArea</th>\n",
       "      <th>ExterQual</th>\n",
       "      <th>ExterCond</th>\n",
       "      <th>Foundation</th>\n",
       "      <th>BsmtQual</th>\n",
       "      <th>BsmtCond</th>\n",
       "      <th>BsmtExposure</th>\n",
       "      <th>BsmtFinType1</th>\n",
       "      <th>BsmtFinSF1</th>\n",
       "      <th>BsmtFinType2</th>\n",
       "      <th>BsmtFinSF2</th>\n",
       "      <th>BsmtUnfSF</th>\n",
       "      <th>TotalBsmtSF</th>\n",
       "      <th>Heating</th>\n",
       "      <th>HeatingQC</th>\n",
       "      <th>CentralAir</th>\n",
       "      <th>Electrical</th>\n",
       "      <th>1stFlrSF</th>\n",
       "      <th>2ndFlrSF</th>\n",
       "      <th>LowQualFinSF</th>\n",
       "      <th>GrLivArea</th>\n",
       "      <th>BsmtFullBath</th>\n",
       "      <th>BsmtHalfBath</th>\n",
       "      <th>FullBath</th>\n",
       "      <th>HalfBath</th>\n",
       "      <th>BedroomAbvGr</th>\n",
       "      <th>KitchenAbvGr</th>\n",
       "      <th>KitchenQual</th>\n",
       "      <th>TotRmsAbvGrd</th>\n",
       "      <th>Functional</th>\n",
       "      <th>Fireplaces</th>\n",
       "      <th>FireplaceQu</th>\n",
       "      <th>GarageType</th>\n",
       "      <th>GarageYrBlt</th>\n",
       "      <th>GarageFinish</th>\n",
       "      <th>GarageCars</th>\n",
       "      <th>GarageArea</th>\n",
       "      <th>GarageQual</th>\n",
       "      <th>GarageCond</th>\n",
       "      <th>PavedDrive</th>\n",
       "      <th>WoodDeckSF</th>\n",
       "      <th>OpenPorchSF</th>\n",
       "      <th>EnclosedPorch</th>\n",
       "      <th>3SsnPorch</th>\n",
       "      <th>ScreenPorch</th>\n",
       "      <th>PoolArea</th>\n",
       "      <th>PoolQC</th>\n",
       "      <th>Fence</th>\n",
       "      <th>MiscFeature</th>\n",
       "      <th>MiscVal</th>\n",
       "      <th>MoSold</th>\n",
       "      <th>YrSold</th>\n",
       "      <th>SaleType</th>\n",
       "      <th>SaleCondition</th>\n",
       "      <th>SalePrice</th>\n",
       "    </tr>\n",
       "  </thead>\n",
       "  <tbody>\n",
       "    <tr>\n",
       "      <th>0</th>\n",
       "      <td>1</td>\n",
       "      <td>60</td>\n",
       "      <td>RL</td>\n",
       "      <td>65.0</td>\n",
       "      <td>8450</td>\n",
       "      <td>Pave</td>\n",
       "      <td>NaN</td>\n",
       "      <td>Reg</td>\n",
       "      <td>Lvl</td>\n",
       "      <td>AllPub</td>\n",
       "      <td>Inside</td>\n",
       "      <td>Gtl</td>\n",
       "      <td>CollgCr</td>\n",
       "      <td>Norm</td>\n",
       "      <td>Norm</td>\n",
       "      <td>1Fam</td>\n",
       "      <td>2Story</td>\n",
       "      <td>7</td>\n",
       "      <td>5</td>\n",
       "      <td>2003</td>\n",
       "      <td>2003</td>\n",
       "      <td>Gable</td>\n",
       "      <td>CompShg</td>\n",
       "      <td>VinylSd</td>\n",
       "      <td>VinylSd</td>\n",
       "      <td>BrkFace</td>\n",
       "      <td>196.0</td>\n",
       "      <td>Gd</td>\n",
       "      <td>TA</td>\n",
       "      <td>PConc</td>\n",
       "      <td>Gd</td>\n",
       "      <td>TA</td>\n",
       "      <td>No</td>\n",
       "      <td>GLQ</td>\n",
       "      <td>706</td>\n",
       "      <td>Unf</td>\n",
       "      <td>0</td>\n",
       "      <td>150</td>\n",
       "      <td>856</td>\n",
       "      <td>GasA</td>\n",
       "      <td>Ex</td>\n",
       "      <td>Y</td>\n",
       "      <td>SBrkr</td>\n",
       "      <td>856</td>\n",
       "      <td>854</td>\n",
       "      <td>0</td>\n",
       "      <td>1710</td>\n",
       "      <td>1</td>\n",
       "      <td>0</td>\n",
       "      <td>2</td>\n",
       "      <td>1</td>\n",
       "      <td>3</td>\n",
       "      <td>1</td>\n",
       "      <td>Gd</td>\n",
       "      <td>8</td>\n",
       "      <td>Typ</td>\n",
       "      <td>0</td>\n",
       "      <td>NaN</td>\n",
       "      <td>Attchd</td>\n",
       "      <td>2003.0</td>\n",
       "      <td>RFn</td>\n",
       "      <td>2</td>\n",
       "      <td>548</td>\n",
       "      <td>TA</td>\n",
       "      <td>TA</td>\n",
       "      <td>Y</td>\n",
       "      <td>0</td>\n",
       "      <td>61</td>\n",
       "      <td>0</td>\n",
       "      <td>0</td>\n",
       "      <td>0</td>\n",
       "      <td>0</td>\n",
       "      <td>NaN</td>\n",
       "      <td>NaN</td>\n",
       "      <td>NaN</td>\n",
       "      <td>0</td>\n",
       "      <td>2</td>\n",
       "      <td>2008</td>\n",
       "      <td>WD</td>\n",
       "      <td>Normal</td>\n",
       "      <td>208500</td>\n",
       "    </tr>\n",
       "    <tr>\n",
       "      <th>1</th>\n",
       "      <td>2</td>\n",
       "      <td>20</td>\n",
       "      <td>RL</td>\n",
       "      <td>80.0</td>\n",
       "      <td>9600</td>\n",
       "      <td>Pave</td>\n",
       "      <td>NaN</td>\n",
       "      <td>Reg</td>\n",
       "      <td>Lvl</td>\n",
       "      <td>AllPub</td>\n",
       "      <td>FR2</td>\n",
       "      <td>Gtl</td>\n",
       "      <td>Veenker</td>\n",
       "      <td>Feedr</td>\n",
       "      <td>Norm</td>\n",
       "      <td>1Fam</td>\n",
       "      <td>1Story</td>\n",
       "      <td>6</td>\n",
       "      <td>8</td>\n",
       "      <td>1976</td>\n",
       "      <td>1976</td>\n",
       "      <td>Gable</td>\n",
       "      <td>CompShg</td>\n",
       "      <td>MetalSd</td>\n",
       "      <td>MetalSd</td>\n",
       "      <td>None</td>\n",
       "      <td>0.0</td>\n",
       "      <td>TA</td>\n",
       "      <td>TA</td>\n",
       "      <td>CBlock</td>\n",
       "      <td>Gd</td>\n",
       "      <td>TA</td>\n",
       "      <td>Gd</td>\n",
       "      <td>ALQ</td>\n",
       "      <td>978</td>\n",
       "      <td>Unf</td>\n",
       "      <td>0</td>\n",
       "      <td>284</td>\n",
       "      <td>1262</td>\n",
       "      <td>GasA</td>\n",
       "      <td>Ex</td>\n",
       "      <td>Y</td>\n",
       "      <td>SBrkr</td>\n",
       "      <td>1262</td>\n",
       "      <td>0</td>\n",
       "      <td>0</td>\n",
       "      <td>1262</td>\n",
       "      <td>0</td>\n",
       "      <td>1</td>\n",
       "      <td>2</td>\n",
       "      <td>0</td>\n",
       "      <td>3</td>\n",
       "      <td>1</td>\n",
       "      <td>TA</td>\n",
       "      <td>6</td>\n",
       "      <td>Typ</td>\n",
       "      <td>1</td>\n",
       "      <td>TA</td>\n",
       "      <td>Attchd</td>\n",
       "      <td>1976.0</td>\n",
       "      <td>RFn</td>\n",
       "      <td>2</td>\n",
       "      <td>460</td>\n",
       "      <td>TA</td>\n",
       "      <td>TA</td>\n",
       "      <td>Y</td>\n",
       "      <td>298</td>\n",
       "      <td>0</td>\n",
       "      <td>0</td>\n",
       "      <td>0</td>\n",
       "      <td>0</td>\n",
       "      <td>0</td>\n",
       "      <td>NaN</td>\n",
       "      <td>NaN</td>\n",
       "      <td>NaN</td>\n",
       "      <td>0</td>\n",
       "      <td>5</td>\n",
       "      <td>2007</td>\n",
       "      <td>WD</td>\n",
       "      <td>Normal</td>\n",
       "      <td>181500</td>\n",
       "    </tr>\n",
       "    <tr>\n",
       "      <th>2</th>\n",
       "      <td>3</td>\n",
       "      <td>60</td>\n",
       "      <td>RL</td>\n",
       "      <td>68.0</td>\n",
       "      <td>11250</td>\n",
       "      <td>Pave</td>\n",
       "      <td>NaN</td>\n",
       "      <td>IR1</td>\n",
       "      <td>Lvl</td>\n",
       "      <td>AllPub</td>\n",
       "      <td>Inside</td>\n",
       "      <td>Gtl</td>\n",
       "      <td>CollgCr</td>\n",
       "      <td>Norm</td>\n",
       "      <td>Norm</td>\n",
       "      <td>1Fam</td>\n",
       "      <td>2Story</td>\n",
       "      <td>7</td>\n",
       "      <td>5</td>\n",
       "      <td>2001</td>\n",
       "      <td>2002</td>\n",
       "      <td>Gable</td>\n",
       "      <td>CompShg</td>\n",
       "      <td>VinylSd</td>\n",
       "      <td>VinylSd</td>\n",
       "      <td>BrkFace</td>\n",
       "      <td>162.0</td>\n",
       "      <td>Gd</td>\n",
       "      <td>TA</td>\n",
       "      <td>PConc</td>\n",
       "      <td>Gd</td>\n",
       "      <td>TA</td>\n",
       "      <td>Mn</td>\n",
       "      <td>GLQ</td>\n",
       "      <td>486</td>\n",
       "      <td>Unf</td>\n",
       "      <td>0</td>\n",
       "      <td>434</td>\n",
       "      <td>920</td>\n",
       "      <td>GasA</td>\n",
       "      <td>Ex</td>\n",
       "      <td>Y</td>\n",
       "      <td>SBrkr</td>\n",
       "      <td>920</td>\n",
       "      <td>866</td>\n",
       "      <td>0</td>\n",
       "      <td>1786</td>\n",
       "      <td>1</td>\n",
       "      <td>0</td>\n",
       "      <td>2</td>\n",
       "      <td>1</td>\n",
       "      <td>3</td>\n",
       "      <td>1</td>\n",
       "      <td>Gd</td>\n",
       "      <td>6</td>\n",
       "      <td>Typ</td>\n",
       "      <td>1</td>\n",
       "      <td>TA</td>\n",
       "      <td>Attchd</td>\n",
       "      <td>2001.0</td>\n",
       "      <td>RFn</td>\n",
       "      <td>2</td>\n",
       "      <td>608</td>\n",
       "      <td>TA</td>\n",
       "      <td>TA</td>\n",
       "      <td>Y</td>\n",
       "      <td>0</td>\n",
       "      <td>42</td>\n",
       "      <td>0</td>\n",
       "      <td>0</td>\n",
       "      <td>0</td>\n",
       "      <td>0</td>\n",
       "      <td>NaN</td>\n",
       "      <td>NaN</td>\n",
       "      <td>NaN</td>\n",
       "      <td>0</td>\n",
       "      <td>9</td>\n",
       "      <td>2008</td>\n",
       "      <td>WD</td>\n",
       "      <td>Normal</td>\n",
       "      <td>223500</td>\n",
       "    </tr>\n",
       "    <tr>\n",
       "      <th>3</th>\n",
       "      <td>4</td>\n",
       "      <td>70</td>\n",
       "      <td>RL</td>\n",
       "      <td>60.0</td>\n",
       "      <td>9550</td>\n",
       "      <td>Pave</td>\n",
       "      <td>NaN</td>\n",
       "      <td>IR1</td>\n",
       "      <td>Lvl</td>\n",
       "      <td>AllPub</td>\n",
       "      <td>Corner</td>\n",
       "      <td>Gtl</td>\n",
       "      <td>Crawfor</td>\n",
       "      <td>Norm</td>\n",
       "      <td>Norm</td>\n",
       "      <td>1Fam</td>\n",
       "      <td>2Story</td>\n",
       "      <td>7</td>\n",
       "      <td>5</td>\n",
       "      <td>1915</td>\n",
       "      <td>1970</td>\n",
       "      <td>Gable</td>\n",
       "      <td>CompShg</td>\n",
       "      <td>Wd Sdng</td>\n",
       "      <td>Wd Shng</td>\n",
       "      <td>None</td>\n",
       "      <td>0.0</td>\n",
       "      <td>TA</td>\n",
       "      <td>TA</td>\n",
       "      <td>BrkTil</td>\n",
       "      <td>TA</td>\n",
       "      <td>Gd</td>\n",
       "      <td>No</td>\n",
       "      <td>ALQ</td>\n",
       "      <td>216</td>\n",
       "      <td>Unf</td>\n",
       "      <td>0</td>\n",
       "      <td>540</td>\n",
       "      <td>756</td>\n",
       "      <td>GasA</td>\n",
       "      <td>Gd</td>\n",
       "      <td>Y</td>\n",
       "      <td>SBrkr</td>\n",
       "      <td>961</td>\n",
       "      <td>756</td>\n",
       "      <td>0</td>\n",
       "      <td>1717</td>\n",
       "      <td>1</td>\n",
       "      <td>0</td>\n",
       "      <td>1</td>\n",
       "      <td>0</td>\n",
       "      <td>3</td>\n",
       "      <td>1</td>\n",
       "      <td>Gd</td>\n",
       "      <td>7</td>\n",
       "      <td>Typ</td>\n",
       "      <td>1</td>\n",
       "      <td>Gd</td>\n",
       "      <td>Detchd</td>\n",
       "      <td>1998.0</td>\n",
       "      <td>Unf</td>\n",
       "      <td>3</td>\n",
       "      <td>642</td>\n",
       "      <td>TA</td>\n",
       "      <td>TA</td>\n",
       "      <td>Y</td>\n",
       "      <td>0</td>\n",
       "      <td>35</td>\n",
       "      <td>272</td>\n",
       "      <td>0</td>\n",
       "      <td>0</td>\n",
       "      <td>0</td>\n",
       "      <td>NaN</td>\n",
       "      <td>NaN</td>\n",
       "      <td>NaN</td>\n",
       "      <td>0</td>\n",
       "      <td>2</td>\n",
       "      <td>2006</td>\n",
       "      <td>WD</td>\n",
       "      <td>Abnorml</td>\n",
       "      <td>140000</td>\n",
       "    </tr>\n",
       "    <tr>\n",
       "      <th>4</th>\n",
       "      <td>5</td>\n",
       "      <td>60</td>\n",
       "      <td>RL</td>\n",
       "      <td>84.0</td>\n",
       "      <td>14260</td>\n",
       "      <td>Pave</td>\n",
       "      <td>NaN</td>\n",
       "      <td>IR1</td>\n",
       "      <td>Lvl</td>\n",
       "      <td>AllPub</td>\n",
       "      <td>FR2</td>\n",
       "      <td>Gtl</td>\n",
       "      <td>NoRidge</td>\n",
       "      <td>Norm</td>\n",
       "      <td>Norm</td>\n",
       "      <td>1Fam</td>\n",
       "      <td>2Story</td>\n",
       "      <td>8</td>\n",
       "      <td>5</td>\n",
       "      <td>2000</td>\n",
       "      <td>2000</td>\n",
       "      <td>Gable</td>\n",
       "      <td>CompShg</td>\n",
       "      <td>VinylSd</td>\n",
       "      <td>VinylSd</td>\n",
       "      <td>BrkFace</td>\n",
       "      <td>350.0</td>\n",
       "      <td>Gd</td>\n",
       "      <td>TA</td>\n",
       "      <td>PConc</td>\n",
       "      <td>Gd</td>\n",
       "      <td>TA</td>\n",
       "      <td>Av</td>\n",
       "      <td>GLQ</td>\n",
       "      <td>655</td>\n",
       "      <td>Unf</td>\n",
       "      <td>0</td>\n",
       "      <td>490</td>\n",
       "      <td>1145</td>\n",
       "      <td>GasA</td>\n",
       "      <td>Ex</td>\n",
       "      <td>Y</td>\n",
       "      <td>SBrkr</td>\n",
       "      <td>1145</td>\n",
       "      <td>1053</td>\n",
       "      <td>0</td>\n",
       "      <td>2198</td>\n",
       "      <td>1</td>\n",
       "      <td>0</td>\n",
       "      <td>2</td>\n",
       "      <td>1</td>\n",
       "      <td>4</td>\n",
       "      <td>1</td>\n",
       "      <td>Gd</td>\n",
       "      <td>9</td>\n",
       "      <td>Typ</td>\n",
       "      <td>1</td>\n",
       "      <td>TA</td>\n",
       "      <td>Attchd</td>\n",
       "      <td>2000.0</td>\n",
       "      <td>RFn</td>\n",
       "      <td>3</td>\n",
       "      <td>836</td>\n",
       "      <td>TA</td>\n",
       "      <td>TA</td>\n",
       "      <td>Y</td>\n",
       "      <td>192</td>\n",
       "      <td>84</td>\n",
       "      <td>0</td>\n",
       "      <td>0</td>\n",
       "      <td>0</td>\n",
       "      <td>0</td>\n",
       "      <td>NaN</td>\n",
       "      <td>NaN</td>\n",
       "      <td>NaN</td>\n",
       "      <td>0</td>\n",
       "      <td>12</td>\n",
       "      <td>2008</td>\n",
       "      <td>WD</td>\n",
       "      <td>Normal</td>\n",
       "      <td>250000</td>\n",
       "    </tr>\n",
       "  </tbody>\n",
       "</table>\n",
       "</div>"
      ],
      "text/plain": [
       "   Id  MSSubClass MSZoning  LotFrontage  LotArea Street Alley LotShape  \\\n",
       "0   1          60       RL         65.0     8450   Pave   NaN      Reg   \n",
       "1   2          20       RL         80.0     9600   Pave   NaN      Reg   \n",
       "2   3          60       RL         68.0    11250   Pave   NaN      IR1   \n",
       "3   4          70       RL         60.0     9550   Pave   NaN      IR1   \n",
       "4   5          60       RL         84.0    14260   Pave   NaN      IR1   \n",
       "\n",
       "  LandContour Utilities LotConfig LandSlope Neighborhood Condition1  \\\n",
       "0         Lvl    AllPub    Inside       Gtl      CollgCr       Norm   \n",
       "1         Lvl    AllPub       FR2       Gtl      Veenker      Feedr   \n",
       "2         Lvl    AllPub    Inside       Gtl      CollgCr       Norm   \n",
       "3         Lvl    AllPub    Corner       Gtl      Crawfor       Norm   \n",
       "4         Lvl    AllPub       FR2       Gtl      NoRidge       Norm   \n",
       "\n",
       "  Condition2 BldgType HouseStyle  OverallQual  OverallCond  YearBuilt  \\\n",
       "0       Norm     1Fam     2Story            7            5       2003   \n",
       "1       Norm     1Fam     1Story            6            8       1976   \n",
       "2       Norm     1Fam     2Story            7            5       2001   \n",
       "3       Norm     1Fam     2Story            7            5       1915   \n",
       "4       Norm     1Fam     2Story            8            5       2000   \n",
       "\n",
       "   YearRemodAdd RoofStyle RoofMatl Exterior1st Exterior2nd MasVnrType  \\\n",
       "0          2003     Gable  CompShg     VinylSd     VinylSd    BrkFace   \n",
       "1          1976     Gable  CompShg     MetalSd     MetalSd       None   \n",
       "2          2002     Gable  CompShg     VinylSd     VinylSd    BrkFace   \n",
       "3          1970     Gable  CompShg     Wd Sdng     Wd Shng       None   \n",
       "4          2000     Gable  CompShg     VinylSd     VinylSd    BrkFace   \n",
       "\n",
       "   MasVnrArea ExterQual ExterCond Foundation BsmtQual BsmtCond BsmtExposure  \\\n",
       "0       196.0        Gd        TA      PConc       Gd       TA           No   \n",
       "1         0.0        TA        TA     CBlock       Gd       TA           Gd   \n",
       "2       162.0        Gd        TA      PConc       Gd       TA           Mn   \n",
       "3         0.0        TA        TA     BrkTil       TA       Gd           No   \n",
       "4       350.0        Gd        TA      PConc       Gd       TA           Av   \n",
       "\n",
       "  BsmtFinType1  BsmtFinSF1 BsmtFinType2  BsmtFinSF2  BsmtUnfSF  TotalBsmtSF  \\\n",
       "0          GLQ         706          Unf           0        150          856   \n",
       "1          ALQ         978          Unf           0        284         1262   \n",
       "2          GLQ         486          Unf           0        434          920   \n",
       "3          ALQ         216          Unf           0        540          756   \n",
       "4          GLQ         655          Unf           0        490         1145   \n",
       "\n",
       "  Heating HeatingQC CentralAir Electrical  1stFlrSF  2ndFlrSF  LowQualFinSF  \\\n",
       "0    GasA        Ex          Y      SBrkr       856       854             0   \n",
       "1    GasA        Ex          Y      SBrkr      1262         0             0   \n",
       "2    GasA        Ex          Y      SBrkr       920       866             0   \n",
       "3    GasA        Gd          Y      SBrkr       961       756             0   \n",
       "4    GasA        Ex          Y      SBrkr      1145      1053             0   \n",
       "\n",
       "   GrLivArea  BsmtFullBath  BsmtHalfBath  FullBath  HalfBath  BedroomAbvGr  \\\n",
       "0       1710             1             0         2         1             3   \n",
       "1       1262             0             1         2         0             3   \n",
       "2       1786             1             0         2         1             3   \n",
       "3       1717             1             0         1         0             3   \n",
       "4       2198             1             0         2         1             4   \n",
       "\n",
       "   KitchenAbvGr KitchenQual  TotRmsAbvGrd Functional  Fireplaces FireplaceQu  \\\n",
       "0             1          Gd             8        Typ           0         NaN   \n",
       "1             1          TA             6        Typ           1          TA   \n",
       "2             1          Gd             6        Typ           1          TA   \n",
       "3             1          Gd             7        Typ           1          Gd   \n",
       "4             1          Gd             9        Typ           1          TA   \n",
       "\n",
       "  GarageType  GarageYrBlt GarageFinish  GarageCars  GarageArea GarageQual  \\\n",
       "0     Attchd       2003.0          RFn           2         548         TA   \n",
       "1     Attchd       1976.0          RFn           2         460         TA   \n",
       "2     Attchd       2001.0          RFn           2         608         TA   \n",
       "3     Detchd       1998.0          Unf           3         642         TA   \n",
       "4     Attchd       2000.0          RFn           3         836         TA   \n",
       "\n",
       "  GarageCond PavedDrive  WoodDeckSF  OpenPorchSF  EnclosedPorch  3SsnPorch  \\\n",
       "0         TA          Y           0           61              0          0   \n",
       "1         TA          Y         298            0              0          0   \n",
       "2         TA          Y           0           42              0          0   \n",
       "3         TA          Y           0           35            272          0   \n",
       "4         TA          Y         192           84              0          0   \n",
       "\n",
       "   ScreenPorch  PoolArea PoolQC Fence MiscFeature  MiscVal  MoSold  YrSold  \\\n",
       "0            0         0    NaN   NaN         NaN        0       2    2008   \n",
       "1            0         0    NaN   NaN         NaN        0       5    2007   \n",
       "2            0         0    NaN   NaN         NaN        0       9    2008   \n",
       "3            0         0    NaN   NaN         NaN        0       2    2006   \n",
       "4            0         0    NaN   NaN         NaN        0      12    2008   \n",
       "\n",
       "  SaleType SaleCondition  SalePrice  \n",
       "0       WD        Normal     208500  \n",
       "1       WD        Normal     181500  \n",
       "2       WD        Normal     223500  \n",
       "3       WD       Abnorml     140000  \n",
       "4       WD        Normal     250000  "
      ]
     },
     "execution_count": 4,
     "metadata": {},
     "output_type": "execute_result"
    }
   ],
   "source": [
    "A.head()"
   ]
  },
  {
   "cell_type": "code",
   "execution_count": 5,
   "id": "2b59382a",
   "metadata": {},
   "outputs": [
    {
     "name": "stdout",
     "output_type": "stream",
     "text": [
      "<class 'pandas.core.frame.DataFrame'>\n",
      "RangeIndex: 1460 entries, 0 to 1459\n",
      "Data columns (total 81 columns):\n",
      " #   Column         Non-Null Count  Dtype  \n",
      "---  ------         --------------  -----  \n",
      " 0   Id             1460 non-null   int64  \n",
      " 1   MSSubClass     1460 non-null   int64  \n",
      " 2   MSZoning       1460 non-null   object \n",
      " 3   LotFrontage    1201 non-null   float64\n",
      " 4   LotArea        1460 non-null   int64  \n",
      " 5   Street         1460 non-null   object \n",
      " 6   Alley          91 non-null     object \n",
      " 7   LotShape       1460 non-null   object \n",
      " 8   LandContour    1460 non-null   object \n",
      " 9   Utilities      1460 non-null   object \n",
      " 10  LotConfig      1460 non-null   object \n",
      " 11  LandSlope      1460 non-null   object \n",
      " 12  Neighborhood   1460 non-null   object \n",
      " 13  Condition1     1460 non-null   object \n",
      " 14  Condition2     1460 non-null   object \n",
      " 15  BldgType       1460 non-null   object \n",
      " 16  HouseStyle     1460 non-null   object \n",
      " 17  OverallQual    1460 non-null   int64  \n",
      " 18  OverallCond    1460 non-null   int64  \n",
      " 19  YearBuilt      1460 non-null   int64  \n",
      " 20  YearRemodAdd   1460 non-null   int64  \n",
      " 21  RoofStyle      1460 non-null   object \n",
      " 22  RoofMatl       1460 non-null   object \n",
      " 23  Exterior1st    1460 non-null   object \n",
      " 24  Exterior2nd    1460 non-null   object \n",
      " 25  MasVnrType     1452 non-null   object \n",
      " 26  MasVnrArea     1452 non-null   float64\n",
      " 27  ExterQual      1460 non-null   object \n",
      " 28  ExterCond      1460 non-null   object \n",
      " 29  Foundation     1460 non-null   object \n",
      " 30  BsmtQual       1423 non-null   object \n",
      " 31  BsmtCond       1423 non-null   object \n",
      " 32  BsmtExposure   1422 non-null   object \n",
      " 33  BsmtFinType1   1423 non-null   object \n",
      " 34  BsmtFinSF1     1460 non-null   int64  \n",
      " 35  BsmtFinType2   1422 non-null   object \n",
      " 36  BsmtFinSF2     1460 non-null   int64  \n",
      " 37  BsmtUnfSF      1460 non-null   int64  \n",
      " 38  TotalBsmtSF    1460 non-null   int64  \n",
      " 39  Heating        1460 non-null   object \n",
      " 40  HeatingQC      1460 non-null   object \n",
      " 41  CentralAir     1460 non-null   object \n",
      " 42  Electrical     1459 non-null   object \n",
      " 43  1stFlrSF       1460 non-null   int64  \n",
      " 44  2ndFlrSF       1460 non-null   int64  \n",
      " 45  LowQualFinSF   1460 non-null   int64  \n",
      " 46  GrLivArea      1460 non-null   int64  \n",
      " 47  BsmtFullBath   1460 non-null   int64  \n",
      " 48  BsmtHalfBath   1460 non-null   int64  \n",
      " 49  FullBath       1460 non-null   int64  \n",
      " 50  HalfBath       1460 non-null   int64  \n",
      " 51  BedroomAbvGr   1460 non-null   int64  \n",
      " 52  KitchenAbvGr   1460 non-null   int64  \n",
      " 53  KitchenQual    1460 non-null   object \n",
      " 54  TotRmsAbvGrd   1460 non-null   int64  \n",
      " 55  Functional     1460 non-null   object \n",
      " 56  Fireplaces     1460 non-null   int64  \n",
      " 57  FireplaceQu    770 non-null    object \n",
      " 58  GarageType     1379 non-null   object \n",
      " 59  GarageYrBlt    1379 non-null   float64\n",
      " 60  GarageFinish   1379 non-null   object \n",
      " 61  GarageCars     1460 non-null   int64  \n",
      " 62  GarageArea     1460 non-null   int64  \n",
      " 63  GarageQual     1379 non-null   object \n",
      " 64  GarageCond     1379 non-null   object \n",
      " 65  PavedDrive     1460 non-null   object \n",
      " 66  WoodDeckSF     1460 non-null   int64  \n",
      " 67  OpenPorchSF    1460 non-null   int64  \n",
      " 68  EnclosedPorch  1460 non-null   int64  \n",
      " 69  3SsnPorch      1460 non-null   int64  \n",
      " 70  ScreenPorch    1460 non-null   int64  \n",
      " 71  PoolArea       1460 non-null   int64  \n",
      " 72  PoolQC         7 non-null      object \n",
      " 73  Fence          281 non-null    object \n",
      " 74  MiscFeature    54 non-null     object \n",
      " 75  MiscVal        1460 non-null   int64  \n",
      " 76  MoSold         1460 non-null   int64  \n",
      " 77  YrSold         1460 non-null   int64  \n",
      " 78  SaleType       1460 non-null   object \n",
      " 79  SaleCondition  1460 non-null   object \n",
      " 80  SalePrice      1460 non-null   int64  \n",
      "dtypes: float64(3), int64(35), object(43)\n",
      "memory usage: 924.0+ KB\n"
     ]
    }
   ],
   "source": [
    "A.info()"
   ]
  },
  {
   "cell_type": "markdown",
   "id": "ad49418f",
   "metadata": {},
   "source": [
    "# Dropping discrete features"
   ]
  },
  {
   "cell_type": "code",
   "execution_count": 6,
   "id": "97ea0609",
   "metadata": {},
   "outputs": [
    {
     "data": {
      "text/plain": [
       "Id               1460\n",
       "MSSubClass         15\n",
       "MSZoning            5\n",
       "LotFrontage       110\n",
       "LotArea          1073\n",
       "Street              2\n",
       "Alley               2\n",
       "LotShape            4\n",
       "LandContour         4\n",
       "Utilities           2\n",
       "LotConfig           5\n",
       "LandSlope           3\n",
       "Neighborhood       25\n",
       "Condition1          9\n",
       "Condition2          8\n",
       "BldgType            5\n",
       "HouseStyle          8\n",
       "OverallQual        10\n",
       "OverallCond         9\n",
       "YearBuilt         112\n",
       "YearRemodAdd       61\n",
       "RoofStyle           6\n",
       "RoofMatl            8\n",
       "Exterior1st        15\n",
       "Exterior2nd        16\n",
       "MasVnrType          4\n",
       "MasVnrArea        327\n",
       "ExterQual           4\n",
       "ExterCond           5\n",
       "Foundation          6\n",
       "BsmtQual            4\n",
       "BsmtCond            4\n",
       "BsmtExposure        4\n",
       "BsmtFinType1        6\n",
       "BsmtFinSF1        637\n",
       "BsmtFinType2        6\n",
       "BsmtFinSF2        144\n",
       "BsmtUnfSF         780\n",
       "TotalBsmtSF       721\n",
       "Heating             6\n",
       "HeatingQC           5\n",
       "CentralAir          2\n",
       "Electrical          5\n",
       "1stFlrSF          753\n",
       "2ndFlrSF          417\n",
       "LowQualFinSF       24\n",
       "GrLivArea         861\n",
       "BsmtFullBath        4\n",
       "BsmtHalfBath        3\n",
       "FullBath            4\n",
       "HalfBath            3\n",
       "BedroomAbvGr        8\n",
       "KitchenAbvGr        4\n",
       "KitchenQual         4\n",
       "TotRmsAbvGrd       12\n",
       "Functional          7\n",
       "Fireplaces          4\n",
       "FireplaceQu         5\n",
       "GarageType          6\n",
       "GarageYrBlt        97\n",
       "GarageFinish        3\n",
       "GarageCars          5\n",
       "GarageArea        441\n",
       "GarageQual          5\n",
       "GarageCond          5\n",
       "PavedDrive          3\n",
       "WoodDeckSF        274\n",
       "OpenPorchSF       202\n",
       "EnclosedPorch     120\n",
       "3SsnPorch          20\n",
       "ScreenPorch        76\n",
       "PoolArea            8\n",
       "PoolQC              3\n",
       "Fence               4\n",
       "MiscFeature         4\n",
       "MiscVal            21\n",
       "MoSold             12\n",
       "YrSold              5\n",
       "SaleType            9\n",
       "SaleCondition       6\n",
       "SalePrice         663\n",
       "dtype: int64"
      ]
     },
     "execution_count": 6,
     "metadata": {},
     "output_type": "execute_result"
    }
   ],
   "source": [
    "A.nunique()"
   ]
  },
  {
   "cell_type": "code",
   "execution_count": 7,
   "id": "58ea969d",
   "metadata": {},
   "outputs": [],
   "source": [
    "A = A.drop(labels=\"Id\", axis=1)"
   ]
  },
  {
   "cell_type": "markdown",
   "id": "5ce049ba",
   "metadata": {},
   "source": [
    "# Continous and categorical features"
   ]
  },
  {
   "cell_type": "code",
   "execution_count": 8,
   "id": "987d7c1c",
   "metadata": {},
   "outputs": [],
   "source": [
    "cat = []\n",
    "con = []\n",
    "\n",
    "for i in A.columns:\n",
    "    if(A[i].dtypes == \"object\"):\n",
    "        cat.append(i)\n",
    "    else:\n",
    "        con.append(i)"
   ]
  },
  {
   "cell_type": "markdown",
   "id": "e57a3537",
   "metadata": {},
   "source": [
    "# Missing data treatement"
   ]
  },
  {
   "cell_type": "code",
   "execution_count": 9,
   "id": "910a77f7",
   "metadata": {},
   "outputs": [
    {
     "data": {
      "text/plain": [
       "MSSubClass          0\n",
       "MSZoning            0\n",
       "LotFrontage       259\n",
       "LotArea             0\n",
       "Street              0\n",
       "Alley            1369\n",
       "LotShape            0\n",
       "LandContour         0\n",
       "Utilities           0\n",
       "LotConfig           0\n",
       "LandSlope           0\n",
       "Neighborhood        0\n",
       "Condition1          0\n",
       "Condition2          0\n",
       "BldgType            0\n",
       "HouseStyle          0\n",
       "OverallQual         0\n",
       "OverallCond         0\n",
       "YearBuilt           0\n",
       "YearRemodAdd        0\n",
       "RoofStyle           0\n",
       "RoofMatl            0\n",
       "Exterior1st         0\n",
       "Exterior2nd         0\n",
       "MasVnrType          8\n",
       "MasVnrArea          8\n",
       "ExterQual           0\n",
       "ExterCond           0\n",
       "Foundation          0\n",
       "BsmtQual           37\n",
       "BsmtCond           37\n",
       "BsmtExposure       38\n",
       "BsmtFinType1       37\n",
       "BsmtFinSF1          0\n",
       "BsmtFinType2       38\n",
       "BsmtFinSF2          0\n",
       "BsmtUnfSF           0\n",
       "TotalBsmtSF         0\n",
       "Heating             0\n",
       "HeatingQC           0\n",
       "CentralAir          0\n",
       "Electrical          1\n",
       "1stFlrSF            0\n",
       "2ndFlrSF            0\n",
       "LowQualFinSF        0\n",
       "GrLivArea           0\n",
       "BsmtFullBath        0\n",
       "BsmtHalfBath        0\n",
       "FullBath            0\n",
       "HalfBath            0\n",
       "BedroomAbvGr        0\n",
       "KitchenAbvGr        0\n",
       "KitchenQual         0\n",
       "TotRmsAbvGrd        0\n",
       "Functional          0\n",
       "Fireplaces          0\n",
       "FireplaceQu       690\n",
       "GarageType         81\n",
       "GarageYrBlt        81\n",
       "GarageFinish       81\n",
       "GarageCars          0\n",
       "GarageArea          0\n",
       "GarageQual         81\n",
       "GarageCond         81\n",
       "PavedDrive          0\n",
       "WoodDeckSF          0\n",
       "OpenPorchSF         0\n",
       "EnclosedPorch       0\n",
       "3SsnPorch           0\n",
       "ScreenPorch         0\n",
       "PoolArea            0\n",
       "PoolQC           1453\n",
       "Fence            1179\n",
       "MiscFeature      1406\n",
       "MiscVal             0\n",
       "MoSold              0\n",
       "YrSold              0\n",
       "SaleType            0\n",
       "SaleCondition       0\n",
       "SalePrice           0\n",
       "dtype: int64"
      ]
     },
     "execution_count": 9,
     "metadata": {},
     "output_type": "execute_result"
    }
   ],
   "source": [
    "A.isna().sum()"
   ]
  },
  {
   "cell_type": "code",
   "execution_count": 10,
   "id": "06764944",
   "metadata": {},
   "outputs": [],
   "source": [
    "temp = A['MSZoning'].mode()[0]\n",
    "A['MSZoning'] = A['MSZoning'].fillna(temp)"
   ]
  },
  {
   "cell_type": "code",
   "execution_count": 11,
   "id": "3ebcc1aa",
   "metadata": {},
   "outputs": [],
   "source": [
    "temp = round(A['LotFrontage'].mean(), 2)\n",
    "A['LotFrontage'] = A['LotFrontage'].fillna(temp)"
   ]
  },
  {
   "cell_type": "code",
   "execution_count": 12,
   "id": "23d7dc83",
   "metadata": {},
   "outputs": [],
   "source": [
    "A['Alley'] = A['Alley'].fillna('No alley access')"
   ]
  },
  {
   "cell_type": "code",
   "execution_count": 13,
   "id": "b06f9d5a",
   "metadata": {},
   "outputs": [],
   "source": [
    "temp = A['Utilities'].mode()[0]\n",
    "A['Utilities'] = A['Utilities'].fillna(temp)"
   ]
  },
  {
   "cell_type": "code",
   "execution_count": 14,
   "id": "21ea18e5",
   "metadata": {},
   "outputs": [],
   "source": [
    "temp = A['Exterior1st'].mode()[0]\n",
    "A['Exterior1st'] = A['Exterior1st'].fillna(temp)"
   ]
  },
  {
   "cell_type": "code",
   "execution_count": 15,
   "id": "470896b8",
   "metadata": {},
   "outputs": [],
   "source": [
    "temp = A['Exterior2nd'].mode()[0]\n",
    "A['Exterior2nd'] = A['Exterior2nd'].fillna(temp)"
   ]
  },
  {
   "cell_type": "code",
   "execution_count": 16,
   "id": "b5faf0e5",
   "metadata": {},
   "outputs": [],
   "source": [
    "temp = A['MasVnrType'].mode()[0]\n",
    "A['MasVnrType'] = A['MasVnrType'].fillna(temp)"
   ]
  },
  {
   "cell_type": "code",
   "execution_count": 17,
   "id": "18d40d52",
   "metadata": {},
   "outputs": [],
   "source": [
    "temp = A['MasVnrArea'].mode()[0]\n",
    "A['MasVnrArea'] = A['MasVnrArea'].fillna(temp)"
   ]
  },
  {
   "cell_type": "code",
   "execution_count": 18,
   "id": "ed7d04b3",
   "metadata": {},
   "outputs": [],
   "source": [
    "A['BsmtQual'] = A['BsmtQual'].fillna('No Basement')"
   ]
  },
  {
   "cell_type": "code",
   "execution_count": 19,
   "id": "b73d07a4",
   "metadata": {},
   "outputs": [],
   "source": [
    "A['BsmtCond'] = A['BsmtCond'].fillna('No Basement')"
   ]
  },
  {
   "cell_type": "code",
   "execution_count": 20,
   "id": "4825f32d",
   "metadata": {},
   "outputs": [],
   "source": [
    "A['BsmtExposure'] = A['BsmtExposure'].fillna('No Basement')"
   ]
  },
  {
   "cell_type": "code",
   "execution_count": 21,
   "id": "9bfb1695",
   "metadata": {},
   "outputs": [],
   "source": [
    "A['BsmtFinType1'] = A['BsmtFinType1'].fillna('No Basement')"
   ]
  },
  {
   "cell_type": "code",
   "execution_count": 22,
   "id": "5e201d6e",
   "metadata": {},
   "outputs": [],
   "source": [
    "A['BsmtFinSF1'] = A['BsmtFinSF1'].fillna('No Basement')"
   ]
  },
  {
   "cell_type": "code",
   "execution_count": 23,
   "id": "7b7a046c",
   "metadata": {},
   "outputs": [],
   "source": [
    "A['BsmtFinType2'] = A['BsmtFinType2'].fillna('No Basement')"
   ]
  },
  {
   "cell_type": "code",
   "execution_count": 24,
   "id": "b22101fd",
   "metadata": {},
   "outputs": [],
   "source": [
    "temp = A['Electrical'].mode()[0]\n",
    "A['Electrical'] = A['Electrical'].fillna(temp)"
   ]
  },
  {
   "cell_type": "code",
   "execution_count": 25,
   "id": "09d8bdb2",
   "metadata": {},
   "outputs": [],
   "source": [
    "temp = round(A['BsmtFinSF2'].mean(),2)\n",
    "A['BsmtFinSF2'] = A['BsmtFinSF2'].fillna(temp)"
   ]
  },
  {
   "cell_type": "code",
   "execution_count": 26,
   "id": "9d3740de",
   "metadata": {},
   "outputs": [],
   "source": [
    "temp = round(A['BsmtUnfSF'].mean(), 2)\n",
    "A['BsmtUnfSF'] = A['BsmtUnfSF'].fillna(temp)"
   ]
  },
  {
   "cell_type": "code",
   "execution_count": 27,
   "id": "7f4eca2a",
   "metadata": {},
   "outputs": [],
   "source": [
    "temp = round(A['TotalBsmtSF'].mean(), 2)\n",
    "A['TotalBsmtSF'] = A['TotalBsmtSF'].fillna(temp)"
   ]
  },
  {
   "cell_type": "code",
   "execution_count": 28,
   "id": "403c34cb",
   "metadata": {},
   "outputs": [],
   "source": [
    "temp = A['BsmtFullBath'].mode()[0]\n",
    "A['BsmtFullBath'] = A['BsmtFullBath'].fillna(temp)"
   ]
  },
  {
   "cell_type": "code",
   "execution_count": 29,
   "id": "25a7fa64",
   "metadata": {},
   "outputs": [],
   "source": [
    "temp = A['BsmtHalfBath'].mode()[0]\n",
    "A['BsmtHalfBath'] = A['BsmtHalfBath'].fillna(temp)"
   ]
  },
  {
   "cell_type": "code",
   "execution_count": 30,
   "id": "7f859fb0",
   "metadata": {},
   "outputs": [],
   "source": [
    "temp = A['KitchenQual'].mode()[0]\n",
    "A['KitchenQual'] = A['KitchenQual'].fillna(temp)"
   ]
  },
  {
   "cell_type": "code",
   "execution_count": 31,
   "id": "2825c18d",
   "metadata": {},
   "outputs": [],
   "source": [
    "temp = A['Functional'].mode()[0]\n",
    "A['Functional'] = A['Functional'].fillna(temp)"
   ]
  },
  {
   "cell_type": "code",
   "execution_count": 32,
   "id": "9e769ca2",
   "metadata": {},
   "outputs": [],
   "source": [
    "A['FireplaceQu'] = A['FireplaceQu'].fillna('No Fireplace')"
   ]
  },
  {
   "cell_type": "code",
   "execution_count": 33,
   "id": "1f8a67e0",
   "metadata": {},
   "outputs": [],
   "source": [
    "A['GarageType'] = A['GarageType'].fillna('No Garage')"
   ]
  },
  {
   "cell_type": "code",
   "execution_count": 34,
   "id": "0bcbea6b",
   "metadata": {},
   "outputs": [],
   "source": [
    "temp = A['GarageYrBlt'].mode()[0]\n",
    "A['GarageYrBlt'] = A['GarageYrBlt'].fillna(temp)"
   ]
  },
  {
   "cell_type": "code",
   "execution_count": 35,
   "id": "79e7fefd",
   "metadata": {},
   "outputs": [],
   "source": [
    "A['GarageFinish'] = A['GarageFinish'].fillna('No Garage')"
   ]
  },
  {
   "cell_type": "code",
   "execution_count": 36,
   "id": "a514a286",
   "metadata": {},
   "outputs": [],
   "source": [
    "temp = A['GarageCars'].mode()[0]\n",
    "A['GarageCars'] = A['GarageCars'].fillna(temp)"
   ]
  },
  {
   "cell_type": "code",
   "execution_count": 37,
   "id": "a36c5040",
   "metadata": {},
   "outputs": [],
   "source": [
    "temp = round(A['GarageArea'].mean(), 2)\n",
    "A['GarageArea'] = A['GarageArea'].fillna(temp)"
   ]
  },
  {
   "cell_type": "code",
   "execution_count": 38,
   "id": "73fc5497",
   "metadata": {},
   "outputs": [],
   "source": [
    "A['GarageQual'] = A['GarageQual'].fillna('No Garage')"
   ]
  },
  {
   "cell_type": "code",
   "execution_count": 39,
   "id": "7e92a20e",
   "metadata": {},
   "outputs": [],
   "source": [
    "A['GarageCond'] = A['GarageCond'].fillna('No Garage')"
   ]
  },
  {
   "cell_type": "code",
   "execution_count": 40,
   "id": "5932950d",
   "metadata": {},
   "outputs": [],
   "source": [
    "A['PoolQC'] = A['PoolQC'].fillna('No Pool')"
   ]
  },
  {
   "cell_type": "code",
   "execution_count": 41,
   "id": "8993086a",
   "metadata": {},
   "outputs": [],
   "source": [
    "A['Fence'] = A['Fence'].fillna('No Fence')"
   ]
  },
  {
   "cell_type": "code",
   "execution_count": 42,
   "id": "be201d0f",
   "metadata": {},
   "outputs": [],
   "source": [
    "A['MiscFeature'] = A['MiscFeature'].fillna('None')"
   ]
  },
  {
   "cell_type": "code",
   "execution_count": 43,
   "id": "b5a6c322",
   "metadata": {},
   "outputs": [],
   "source": [
    "temp = A['SaleType'].mode()[0]\n",
    "A['SaleType'] = A['SaleType'].fillna(temp)"
   ]
  },
  {
   "cell_type": "code",
   "execution_count": 44,
   "id": "b6017f29",
   "metadata": {},
   "outputs": [
    {
     "data": {
      "text/plain": [
       "MSSubClass       0\n",
       "MSZoning         0\n",
       "LotFrontage      0\n",
       "LotArea          0\n",
       "Street           0\n",
       "Alley            0\n",
       "LotShape         0\n",
       "LandContour      0\n",
       "Utilities        0\n",
       "LotConfig        0\n",
       "LandSlope        0\n",
       "Neighborhood     0\n",
       "Condition1       0\n",
       "Condition2       0\n",
       "BldgType         0\n",
       "HouseStyle       0\n",
       "OverallQual      0\n",
       "OverallCond      0\n",
       "YearBuilt        0\n",
       "YearRemodAdd     0\n",
       "RoofStyle        0\n",
       "RoofMatl         0\n",
       "Exterior1st      0\n",
       "Exterior2nd      0\n",
       "MasVnrType       0\n",
       "MasVnrArea       0\n",
       "ExterQual        0\n",
       "ExterCond        0\n",
       "Foundation       0\n",
       "BsmtQual         0\n",
       "BsmtCond         0\n",
       "BsmtExposure     0\n",
       "BsmtFinType1     0\n",
       "BsmtFinSF1       0\n",
       "BsmtFinType2     0\n",
       "BsmtFinSF2       0\n",
       "BsmtUnfSF        0\n",
       "TotalBsmtSF      0\n",
       "Heating          0\n",
       "HeatingQC        0\n",
       "CentralAir       0\n",
       "Electrical       0\n",
       "1stFlrSF         0\n",
       "2ndFlrSF         0\n",
       "LowQualFinSF     0\n",
       "GrLivArea        0\n",
       "BsmtFullBath     0\n",
       "BsmtHalfBath     0\n",
       "FullBath         0\n",
       "HalfBath         0\n",
       "BedroomAbvGr     0\n",
       "KitchenAbvGr     0\n",
       "KitchenQual      0\n",
       "TotRmsAbvGrd     0\n",
       "Functional       0\n",
       "Fireplaces       0\n",
       "FireplaceQu      0\n",
       "GarageType       0\n",
       "GarageYrBlt      0\n",
       "GarageFinish     0\n",
       "GarageCars       0\n",
       "GarageArea       0\n",
       "GarageQual       0\n",
       "GarageCond       0\n",
       "PavedDrive       0\n",
       "WoodDeckSF       0\n",
       "OpenPorchSF      0\n",
       "EnclosedPorch    0\n",
       "3SsnPorch        0\n",
       "ScreenPorch      0\n",
       "PoolArea         0\n",
       "PoolQC           0\n",
       "Fence            0\n",
       "MiscFeature      0\n",
       "MiscVal          0\n",
       "MoSold           0\n",
       "YrSold           0\n",
       "SaleType         0\n",
       "SaleCondition    0\n",
       "SalePrice        0\n",
       "dtype: int64"
      ]
     },
     "execution_count": 44,
     "metadata": {},
     "output_type": "execute_result"
    }
   ],
   "source": [
    "A.isna().sum()"
   ]
  },
  {
   "cell_type": "markdown",
   "id": "de9e71ab",
   "metadata": {},
   "source": [
    "# Exploratory Data Analysis"
   ]
  },
  {
   "cell_type": "markdown",
   "id": "194ffeba",
   "metadata": {},
   "source": [
    "### Continous features analysis"
   ]
  },
  {
   "cell_type": "code",
   "execution_count": 45,
   "id": "56dd9ed2",
   "metadata": {},
   "outputs": [
    {
     "data": {
      "text/plain": [
       "1stFlrSF       0.605852\n",
       "TotalBsmtSF    0.613581\n",
       "GarageArea     0.623431\n",
       "GarageCars     0.640409\n",
       "GrLivArea      0.708624\n",
       "OverallQual    0.790982\n",
       "Name: SalePrice, dtype: float64"
      ]
     },
     "execution_count": 45,
     "metadata": {},
     "output_type": "execute_result"
    }
   ],
   "source": [
    "P = A.corr()[\"SalePrice\"].sort_values()\n",
    "P = P[(P>0.6) | (P<-0.6)]\n",
    "P = P[P!=1]\n",
    "P"
   ]
  },
  {
   "cell_type": "markdown",
   "id": "f2f11bfe",
   "metadata": {},
   "source": [
    "#### Considering correlation '1stFlrSF', 'TotalBsmtSF', 'GarageArea', 'GarageCars', 'GrLivArea', 'OverallQual' are good continous predictors."
   ]
  },
  {
   "cell_type": "markdown",
   "id": "ed8731d3",
   "metadata": {},
   "source": [
    "# Removing Outliers"
   ]
  },
  {
   "cell_type": "code",
   "execution_count": 46,
   "id": "d41f2f74",
   "metadata": {},
   "outputs": [],
   "source": [
    "from sklearn.preprocessing import StandardScaler\n",
    "ss = StandardScaler()\n",
    "Q = pd.DataFrame(ss.fit_transform(A[con]), columns=con)"
   ]
  },
  {
   "cell_type": "code",
   "execution_count": 47,
   "id": "b310d648",
   "metadata": {
    "scrolled": true
   },
   "outputs": [
    {
     "data": {
      "text/html": [
       "<div>\n",
       "<style scoped>\n",
       "    .dataframe tbody tr th:only-of-type {\n",
       "        vertical-align: middle;\n",
       "    }\n",
       "\n",
       "    .dataframe tbody tr th {\n",
       "        vertical-align: top;\n",
       "    }\n",
       "\n",
       "    .dataframe thead th {\n",
       "        text-align: right;\n",
       "    }\n",
       "</style>\n",
       "<table border=\"1\" class=\"dataframe\">\n",
       "  <thead>\n",
       "    <tr style=\"text-align: right;\">\n",
       "      <th></th>\n",
       "      <th>MSSubClass</th>\n",
       "      <th>LotFrontage</th>\n",
       "      <th>LotArea</th>\n",
       "      <th>OverallQual</th>\n",
       "      <th>OverallCond</th>\n",
       "      <th>YearBuilt</th>\n",
       "      <th>YearRemodAdd</th>\n",
       "      <th>MasVnrArea</th>\n",
       "      <th>BsmtFinSF1</th>\n",
       "      <th>BsmtFinSF2</th>\n",
       "      <th>BsmtUnfSF</th>\n",
       "      <th>TotalBsmtSF</th>\n",
       "      <th>1stFlrSF</th>\n",
       "      <th>2ndFlrSF</th>\n",
       "      <th>LowQualFinSF</th>\n",
       "      <th>GrLivArea</th>\n",
       "      <th>BsmtFullBath</th>\n",
       "      <th>BsmtHalfBath</th>\n",
       "      <th>FullBath</th>\n",
       "      <th>HalfBath</th>\n",
       "      <th>BedroomAbvGr</th>\n",
       "      <th>KitchenAbvGr</th>\n",
       "      <th>TotRmsAbvGrd</th>\n",
       "      <th>Fireplaces</th>\n",
       "      <th>GarageYrBlt</th>\n",
       "      <th>GarageCars</th>\n",
       "      <th>GarageArea</th>\n",
       "      <th>WoodDeckSF</th>\n",
       "      <th>OpenPorchSF</th>\n",
       "      <th>EnclosedPorch</th>\n",
       "      <th>3SsnPorch</th>\n",
       "      <th>ScreenPorch</th>\n",
       "      <th>PoolArea</th>\n",
       "      <th>MiscVal</th>\n",
       "      <th>MoSold</th>\n",
       "      <th>YrSold</th>\n",
       "      <th>SalePrice</th>\n",
       "    </tr>\n",
       "  </thead>\n",
       "  <tbody>\n",
       "    <tr>\n",
       "      <th>0</th>\n",
       "      <td>0.073375</td>\n",
       "      <td>-0.229372</td>\n",
       "      <td>-0.207142</td>\n",
       "      <td>0.651479</td>\n",
       "      <td>-0.517200</td>\n",
       "      <td>1.050994</td>\n",
       "      <td>0.878668</td>\n",
       "      <td>0.514104</td>\n",
       "      <td>0.575425</td>\n",
       "      <td>-0.288653</td>\n",
       "      <td>-0.944591</td>\n",
       "      <td>-0.459303</td>\n",
       "      <td>-0.793434</td>\n",
       "      <td>1.161852</td>\n",
       "      <td>-0.120242</td>\n",
       "      <td>0.370333</td>\n",
       "      <td>1.107810</td>\n",
       "      <td>-0.241061</td>\n",
       "      <td>0.789741</td>\n",
       "      <td>1.227585</td>\n",
       "      <td>0.163779</td>\n",
       "      <td>-0.211454</td>\n",
       "      <td>0.912210</td>\n",
       "      <td>-0.951226</td>\n",
       "      <td>0.930592</td>\n",
       "      <td>0.311725</td>\n",
       "      <td>0.351000</td>\n",
       "      <td>-0.752176</td>\n",
       "      <td>0.216503</td>\n",
       "      <td>-0.359325</td>\n",
       "      <td>-0.116339</td>\n",
       "      <td>-0.270208</td>\n",
       "      <td>-0.068692</td>\n",
       "      <td>-0.087688</td>\n",
       "      <td>-1.599111</td>\n",
       "      <td>0.138777</td>\n",
       "      <td>0.347273</td>\n",
       "    </tr>\n",
       "    <tr>\n",
       "      <th>1</th>\n",
       "      <td>-0.872563</td>\n",
       "      <td>0.451936</td>\n",
       "      <td>-0.091886</td>\n",
       "      <td>-0.071836</td>\n",
       "      <td>2.179628</td>\n",
       "      <td>0.156734</td>\n",
       "      <td>-0.429577</td>\n",
       "      <td>-0.570750</td>\n",
       "      <td>1.171992</td>\n",
       "      <td>-0.288653</td>\n",
       "      <td>-0.641228</td>\n",
       "      <td>0.466465</td>\n",
       "      <td>0.257140</td>\n",
       "      <td>-0.795163</td>\n",
       "      <td>-0.120242</td>\n",
       "      <td>-0.482512</td>\n",
       "      <td>-0.819964</td>\n",
       "      <td>3.948809</td>\n",
       "      <td>0.789741</td>\n",
       "      <td>-0.761621</td>\n",
       "      <td>0.163779</td>\n",
       "      <td>-0.211454</td>\n",
       "      <td>-0.318683</td>\n",
       "      <td>0.600495</td>\n",
       "      <td>-0.160705</td>\n",
       "      <td>0.311725</td>\n",
       "      <td>-0.060731</td>\n",
       "      <td>1.626195</td>\n",
       "      <td>-0.704483</td>\n",
       "      <td>-0.359325</td>\n",
       "      <td>-0.116339</td>\n",
       "      <td>-0.270208</td>\n",
       "      <td>-0.068692</td>\n",
       "      <td>-0.087688</td>\n",
       "      <td>-0.489110</td>\n",
       "      <td>-0.614439</td>\n",
       "      <td>0.007288</td>\n",
       "    </tr>\n",
       "  </tbody>\n",
       "</table>\n",
       "</div>"
      ],
      "text/plain": [
       "   MSSubClass  LotFrontage   LotArea  OverallQual  OverallCond  YearBuilt  \\\n",
       "0    0.073375    -0.229372 -0.207142     0.651479    -0.517200   1.050994   \n",
       "1   -0.872563     0.451936 -0.091886    -0.071836     2.179628   0.156734   \n",
       "\n",
       "   YearRemodAdd  MasVnrArea  BsmtFinSF1  BsmtFinSF2  BsmtUnfSF  TotalBsmtSF  \\\n",
       "0      0.878668    0.514104    0.575425   -0.288653  -0.944591    -0.459303   \n",
       "1     -0.429577   -0.570750    1.171992   -0.288653  -0.641228     0.466465   \n",
       "\n",
       "   1stFlrSF  2ndFlrSF  LowQualFinSF  GrLivArea  BsmtFullBath  BsmtHalfBath  \\\n",
       "0 -0.793434  1.161852     -0.120242   0.370333      1.107810     -0.241061   \n",
       "1  0.257140 -0.795163     -0.120242  -0.482512     -0.819964      3.948809   \n",
       "\n",
       "   FullBath  HalfBath  BedroomAbvGr  KitchenAbvGr  TotRmsAbvGrd  Fireplaces  \\\n",
       "0  0.789741  1.227585      0.163779     -0.211454      0.912210   -0.951226   \n",
       "1  0.789741 -0.761621      0.163779     -0.211454     -0.318683    0.600495   \n",
       "\n",
       "   GarageYrBlt  GarageCars  GarageArea  WoodDeckSF  OpenPorchSF  \\\n",
       "0     0.930592    0.311725    0.351000   -0.752176     0.216503   \n",
       "1    -0.160705    0.311725   -0.060731    1.626195    -0.704483   \n",
       "\n",
       "   EnclosedPorch  3SsnPorch  ScreenPorch  PoolArea   MiscVal    MoSold  \\\n",
       "0      -0.359325  -0.116339    -0.270208 -0.068692 -0.087688 -1.599111   \n",
       "1      -0.359325  -0.116339    -0.270208 -0.068692 -0.087688 -0.489110   \n",
       "\n",
       "     YrSold  SalePrice  \n",
       "0  0.138777   0.347273  \n",
       "1 -0.614439   0.007288  "
      ]
     },
     "execution_count": 47,
     "metadata": {},
     "output_type": "execute_result"
    }
   ],
   "source": [
    "Q.head(2)"
   ]
  },
  {
   "cell_type": "code",
   "execution_count": 48,
   "id": "6cbbbeb3",
   "metadata": {},
   "outputs": [],
   "source": [
    "out = []\n",
    "for i in con:\n",
    "    out.extend(Q[(Q[i]>3) | (Q[i]<-3)].index)"
   ]
  },
  {
   "cell_type": "code",
   "execution_count": 49,
   "id": "5d8be9f8",
   "metadata": {},
   "outputs": [],
   "source": [
    "import numpy as np\n",
    "outliers = np.unique(out)"
   ]
  },
  {
   "cell_type": "code",
   "execution_count": 50,
   "id": "e8beabc5",
   "metadata": {},
   "outputs": [
    {
     "data": {
      "text/plain": [
       "array([   1,    3,    5,    7,    8,    9,   17,   24,   26,   28,   33,\n",
       "         37,   39,   41,   46,   48,   50,   51,   52,   53,   55,   58,\n",
       "         64,   70,   72,   74,   78,   80,   88,   93,  102,  104,  105,\n",
       "        113,  115,  116,  118,  120,  125,  129,  137,  144,  153,  154,\n",
       "        159,  161,  165,  166,  169,  170,  171,  176,  178,  182,  185,\n",
       "        187,  188,  189,  191,  196,  197,  198,  201,  205,  213,  215,\n",
       "        218,  224,  231,  233,  237,  241,  245,  246,  249,  250,  251,\n",
       "        253,  258,  260,  263,  267,  271,  273,  277,  278,  280,  289,\n",
       "        291,  293,  297,  298,  299,  300,  304,  306,  309,  312,  313,\n",
       "        314,  322,  325,  326,  328,  330,  332,  335,  339,  342,  343,\n",
       "        346,  349,  351,  352,  355,  357,  358,  359,  360,  365,  366,\n",
       "        367,  375,  378,  380,  384,  389,  398,  400,  403,  406,  411,\n",
       "        414,  420,  421,  426,  440,  441,  446,  451,  454,  457,  459,\n",
       "        461,  462,  470,  471,  473,  475,  477,  480,  488,  493,  495,\n",
       "        496,  499,  504,  505,  508,  510,  517,  519,  520,  523,  527,\n",
       "        529,  533,  535,  539,  542,  546,  548,  550,  558,  570,  574,\n",
       "        576,  577,  580,  581,  583,  586,  588,  589,  591,  597,  599,\n",
       "        605,  608,  611,  618,  624,  625,  628,  630,  633,  634,  635,\n",
       "        637,  642,  645,  647,  648,  653,  654,  658,  660,  661,  662,\n",
       "        664,  666,  673,  676,  678,  691,  697,  703,  704,  705,  706,\n",
       "        713,  717,  718,  720,  726,  728,  729,  735,  736,  738,  741,\n",
       "        743,  744,  745,  747,  755,  763,  764,  769,  774,  775,  778,\n",
       "        784,  785,  795,  798,  799,  803,  807,  808,  809,  810,  813,\n",
       "        814,  825,  828,  830,  836,  840,  842,  843,  848,  854,  859,\n",
       "        861,  873,  875,  883,  886,  887,  888,  889,  890,  892,  893,\n",
       "        894,  897,  898,  907,  909,  910,  913,  918,  919,  920,  921,\n",
       "        923,  924,  925,  931,  932,  934,  939,  940,  941,  942,  943,\n",
       "        944,  945,  947,  952,  953,  954,  955,  961,  969,  974,  980,\n",
       "        981,  984,  985,  991,  996, 1003, 1006, 1009, 1011, 1013, 1024,\n",
       "       1029, 1030, 1031, 1037, 1040, 1041, 1044, 1046, 1047, 1052, 1055,\n",
       "       1059, 1061, 1062, 1067, 1068, 1069, 1070, 1072, 1076, 1077, 1080,\n",
       "       1081, 1090, 1103, 1107, 1111, 1118, 1119, 1123, 1127, 1132, 1137,\n",
       "       1139, 1142, 1144, 1149, 1150, 1152, 1154, 1156, 1161, 1163, 1169,\n",
       "       1170, 1171, 1173, 1181, 1182, 1184, 1185, 1186, 1190, 1193, 1197,\n",
       "       1202, 1210, 1211, 1213, 1216, 1220, 1225, 1228, 1230, 1232, 1243,\n",
       "       1248, 1253, 1266, 1267, 1268, 1270, 1275, 1276, 1282, 1283, 1287,\n",
       "       1289, 1292, 1293, 1298, 1299, 1301, 1308, 1312, 1313, 1320, 1326,\n",
       "       1327, 1328, 1335, 1336, 1337, 1346, 1349, 1350, 1352, 1353, 1360,\n",
       "       1369, 1373, 1382, 1386, 1387, 1389, 1391, 1393, 1396, 1405, 1412,\n",
       "       1414, 1415, 1416, 1417, 1418, 1419, 1423, 1435, 1437, 1439, 1440,\n",
       "       1445, 1450, 1457, 1458, 1459])"
      ]
     },
     "execution_count": 50,
     "metadata": {},
     "output_type": "execute_result"
    }
   ],
   "source": [
    "outliers"
   ]
  },
  {
   "cell_type": "code",
   "execution_count": 51,
   "id": "264d3b19",
   "metadata": {},
   "outputs": [],
   "source": [
    "A = A.drop(index=outliers, axis=0)"
   ]
  },
  {
   "cell_type": "code",
   "execution_count": 52,
   "id": "9d455d7e",
   "metadata": {},
   "outputs": [
    {
     "data": {
      "text/plain": [
       "(1015, 80)"
      ]
     },
     "execution_count": 52,
     "metadata": {},
     "output_type": "execute_result"
    }
   ],
   "source": [
    "A.shape"
   ]
  },
  {
   "cell_type": "code",
   "execution_count": 53,
   "id": "08afb6a7",
   "metadata": {},
   "outputs": [],
   "source": [
    "A.index = range(0,1015)"
   ]
  },
  {
   "cell_type": "markdown",
   "id": "f41813ff",
   "metadata": {},
   "source": [
    "# Define X and Y"
   ]
  },
  {
   "cell_type": "code",
   "execution_count": 54,
   "id": "cc26a0e3",
   "metadata": {},
   "outputs": [],
   "source": [
    "Y = A[[\"SalePrice\"]]\n",
    "X = A.drop(labels=\"SalePrice\", axis=1)"
   ]
  },
  {
   "cell_type": "code",
   "execution_count": 55,
   "id": "11361185",
   "metadata": {},
   "outputs": [],
   "source": [
    "# updating cat[] and con[]\n",
    "\n",
    "cat = []\n",
    "con = []\n",
    "\n",
    "for i in X.columns:\n",
    "    if(A[i].dtypes == \"object\"):\n",
    "        cat.append(i)\n",
    "    else:\n",
    "        con.append(i)"
   ]
  },
  {
   "cell_type": "markdown",
   "id": "e4a548da",
   "metadata": {},
   "source": [
    "# Preprocessing"
   ]
  },
  {
   "cell_type": "markdown",
   "id": "0c975227",
   "metadata": {},
   "source": [
    "### Standardizing continous features"
   ]
  },
  {
   "cell_type": "code",
   "execution_count": 56,
   "id": "b78fd2ee",
   "metadata": {},
   "outputs": [],
   "source": [
    "ss = StandardScaler()\n",
    "X1 = pd.DataFrame(ss.fit_transform(X[con]), columns=con)"
   ]
  },
  {
   "cell_type": "markdown",
   "id": "42f48caf",
   "metadata": {},
   "source": [
    "### Encoding categorical features"
   ]
  },
  {
   "cell_type": "code",
   "execution_count": 57,
   "id": "95e7d8b3",
   "metadata": {},
   "outputs": [],
   "source": [
    "X2 = pd.get_dummies(X[cat])"
   ]
  },
  {
   "cell_type": "code",
   "execution_count": 58,
   "id": "e0119f79",
   "metadata": {},
   "outputs": [],
   "source": [
    "Xnew = X1.join(X2)"
   ]
  },
  {
   "cell_type": "markdown",
   "id": "43df5690",
   "metadata": {},
   "source": [
    "# Splitting the data"
   ]
  },
  {
   "cell_type": "code",
   "execution_count": 59,
   "id": "9586fb51",
   "metadata": {},
   "outputs": [],
   "source": [
    "from sklearn.model_selection import train_test_split\n",
    "xtrain, xtest, ytrain, ytest = train_test_split(Xnew, Y, test_size=0.2, random_state=31)"
   ]
  },
  {
   "cell_type": "markdown",
   "id": "ba1bdafc",
   "metadata": {},
   "source": [
    "# Model 1 - Full Model"
   ]
  },
  {
   "cell_type": "markdown",
   "id": "3a01f198",
   "metadata": {},
   "source": [
    "### Backward elimination"
   ]
  },
  {
   "cell_type": "code",
   "execution_count": 60,
   "id": "ef14488d",
   "metadata": {},
   "outputs": [
    {
     "data": {
      "text/plain": [
       "0.9330419032845976"
      ]
     },
     "execution_count": 60,
     "metadata": {},
     "output_type": "execute_result"
    }
   ],
   "source": [
    "from statsmodels.api import add_constant, OLS\n",
    "xconst = add_constant(xtrain)\n",
    "ols = OLS(ytrain, xconst).fit()\n",
    "ols.rsquared_adj"
   ]
  },
  {
   "cell_type": "code",
   "execution_count": 61,
   "id": "b020bee1",
   "metadata": {},
   "outputs": [
    {
     "data": {
      "text/plain": [
       "'SaleType_Con'"
      ]
     },
     "execution_count": 61,
     "metadata": {},
     "output_type": "execute_result"
    }
   ],
   "source": [
    "col_to_drop = ols.pvalues.sort_values().index[-1]\n",
    "col_to_drop"
   ]
  },
  {
   "cell_type": "markdown",
   "id": "537de7c5",
   "metadata": {},
   "source": [
    "# Model 2"
   ]
  },
  {
   "cell_type": "code",
   "execution_count": 62,
   "id": "94f246a9",
   "metadata": {},
   "outputs": [
    {
     "data": {
      "text/plain": [
       "0.9330419032845976"
      ]
     },
     "execution_count": 62,
     "metadata": {},
     "output_type": "execute_result"
    }
   ],
   "source": [
    "Xnew = Xnew.drop(labels=col_to_drop, axis=1)\n",
    "\n",
    "xtrain, xtest, ytrain, ytest = train_test_split(Xnew, Y, test_size=0.2, random_state=31)\n",
    "xconst = add_constant(xtrain)\n",
    "ols = OLS(ytrain, xconst).fit()\n",
    "ols.rsquared_adj"
   ]
  },
  {
   "cell_type": "code",
   "execution_count": 63,
   "id": "51e0f4c5",
   "metadata": {},
   "outputs": [
    {
     "data": {
      "text/plain": [
       "'RoofStyle_Hip'"
      ]
     },
     "execution_count": 63,
     "metadata": {},
     "output_type": "execute_result"
    }
   ],
   "source": [
    "col_to_drop = ols.pvalues.sort_values().index[-1]\n",
    "col_to_drop"
   ]
  },
  {
   "cell_type": "markdown",
   "id": "5a144775",
   "metadata": {},
   "source": [
    "# Model 3"
   ]
  },
  {
   "cell_type": "code",
   "execution_count": 64,
   "id": "3df99b7e",
   "metadata": {},
   "outputs": [
    {
     "data": {
      "text/plain": [
       "0.9330419032845976"
      ]
     },
     "execution_count": 64,
     "metadata": {},
     "output_type": "execute_result"
    }
   ],
   "source": [
    "Xnew = Xnew.drop(labels=col_to_drop, axis=1)\n",
    "\n",
    "xtrain, xtest, ytrain, ytest = train_test_split(Xnew, Y, test_size=0.2, random_state=31)\n",
    "xconst = add_constant(xtrain)\n",
    "ols = OLS(ytrain, xconst).fit()\n",
    "ols.rsquared_adj"
   ]
  },
  {
   "cell_type": "markdown",
   "id": "8a50faea",
   "metadata": {},
   "source": [
    "# Model N"
   ]
  },
  {
   "cell_type": "code",
   "execution_count": 65,
   "id": "a2e8ffaa",
   "metadata": {},
   "outputs": [],
   "source": [
    "previous_adjr = 0.9330419032845976\n",
    "current_adjr = 0.9331529227249981 \n",
    "\n",
    "while(current_adjr >= previous_adjr):\n",
    "    previous_adjr = ols.rsquared_adj\n",
    "    col_to_drop = ols.pvalues.sort_values().index[-1]\n",
    "    Xnew = Xnew.drop(labels=col_to_drop, axis=1)\n",
    "\n",
    "    xtrain, xtest, ytrain, ytest = train_test_split(Xnew, Y, test_size=0.2, random_state=31)\n",
    "    xconst = add_constant(xtrain)\n",
    "    ols = OLS(ytrain, xconst).fit()\n",
    "    current_adjr = ols.rsquared_adj"
   ]
  },
  {
   "cell_type": "code",
   "execution_count": 66,
   "id": "073eff5f",
   "metadata": {},
   "outputs": [
    {
     "data": {
      "text/plain": [
       "Index(['MSSubClass', 'LotArea', 'OverallQual', 'OverallCond', 'YearBuilt',\n",
       "       'YearRemodAdd', 'MasVnrArea', 'BsmtFinSF1', 'BsmtFinSF2', 'BsmtUnfSF',\n",
       "       ...\n",
       "       'PoolQC_No Pool', 'Fence_MnWw', 'SaleType_CWD', 'SaleType_ConLD',\n",
       "       'SaleType_ConLw', 'SaleType_New', 'SaleCondition_Abnorml',\n",
       "       'SaleCondition_AdjLand', 'SaleCondition_Alloca',\n",
       "       'SaleCondition_Partial'],\n",
       "      dtype='object', length=137)"
      ]
     },
     "execution_count": 66,
     "metadata": {},
     "output_type": "execute_result"
    }
   ],
   "source": [
    "Xnew.columns"
   ]
  },
  {
   "cell_type": "code",
   "execution_count": 67,
   "id": "2b61b7e1",
   "metadata": {},
   "outputs": [
    {
     "data": {
      "text/plain": [
       "0.9392394672091247"
      ]
     },
     "execution_count": 67,
     "metadata": {},
     "output_type": "execute_result"
    }
   ],
   "source": [
    "ols.rsquared_adj"
   ]
  },
  {
   "cell_type": "markdown",
   "id": "644acf3f",
   "metadata": {},
   "source": [
    "# Linear Model"
   ]
  },
  {
   "cell_type": "code",
   "execution_count": 68,
   "id": "6027b818",
   "metadata": {},
   "outputs": [],
   "source": [
    "from sklearn.linear_model import LinearRegression\n",
    "xtrain, xtest, ytrain, ytest = train_test_split(Xnew, Y, test_size=0.2, random_state=31)\n",
    "\n",
    "lm = LinearRegression()\n",
    "model = lm.fit(xtrain, ytrain)\n",
    "tr_pred = model.predict(xtrain)\n",
    "ts_pred = model.predict(xtest)"
   ]
  },
  {
   "cell_type": "code",
   "execution_count": 69,
   "id": "83fdef64",
   "metadata": {},
   "outputs": [],
   "source": [
    "from sklearn.metrics import mean_absolute_error\n",
    "tr_err = mean_absolute_error(ytrain, tr_pred)\n",
    "ts_err = mean_absolute_error(ytest, ts_pred)"
   ]
  },
  {
   "cell_type": "code",
   "execution_count": 70,
   "id": "c265fbd9",
   "metadata": {},
   "outputs": [
    {
     "data": {
      "text/plain": [
       "(10179.092518472906, 1373047981105851.8)"
      ]
     },
     "execution_count": 70,
     "metadata": {},
     "output_type": "execute_result"
    }
   ],
   "source": [
    "tr_err, ts_err # model is overfitting"
   ]
  },
  {
   "cell_type": "markdown",
   "id": "05ac2be2",
   "metadata": {},
   "source": [
    "# Ridge Regresion Model - 1 (trying different alpha values)"
   ]
  },
  {
   "cell_type": "code",
   "execution_count": 71,
   "id": "185c8443",
   "metadata": {},
   "outputs": [
    {
     "name": "stdout",
     "output_type": "stream",
     "text": [
      "10410.831693134467 11711.221244252172 -1300.3895511177052\n"
     ]
    }
   ],
   "source": [
    "from sklearn.linear_model import Ridge\n",
    "rr = Ridge(alpha=1)\n",
    "model = rr.fit(xtrain,ytrain)\n",
    "tr_pred = model.predict(xtrain)\n",
    "ts_pred = model.predict(xtest)\n",
    "tr_err = mean_absolute_error(ytrain,tr_pred)\n",
    "ts_err = mean_absolute_error(ytest,ts_pred)\n",
    "print(tr_err, ts_err, tr_err - ts_err)"
   ]
  },
  {
   "cell_type": "markdown",
   "id": "f0e74e8c",
   "metadata": {},
   "source": [
    "# Ridge Regresion Model - 2 (trying different alpha values)"
   ]
  },
  {
   "cell_type": "code",
   "execution_count": 72,
   "id": "5e25e2ea",
   "metadata": {},
   "outputs": [
    {
     "name": "stdout",
     "output_type": "stream",
     "text": [
      "10565.687095259898 11556.866819216384 -991.1797239564858\n"
     ]
    }
   ],
   "source": [
    "from sklearn.linear_model import Ridge\n",
    "rr = Ridge(alpha=2)\n",
    "model = rr.fit(xtrain,ytrain)\n",
    "tr_pred = model.predict(xtrain)\n",
    "ts_pred = model.predict(xtest)\n",
    "tr_err = mean_absolute_error(ytrain,tr_pred)\n",
    "ts_err = mean_absolute_error(ytest,ts_pred)\n",
    "print(tr_err, ts_err, tr_err - ts_err)"
   ]
  },
  {
   "cell_type": "code",
   "execution_count": 73,
   "id": "13acdda4",
   "metadata": {},
   "outputs": [],
   "source": [
    "x = 0.01\n",
    "alphas = []\n",
    "for i in range(0,1050,1):\n",
    "    alphas.append(x)\n",
    "    x = round(x + 0.01,2)"
   ]
  },
  {
   "cell_type": "code",
   "execution_count": 74,
   "id": "52cc07e4",
   "metadata": {},
   "outputs": [],
   "source": [
    "tr = []\n",
    "ts = []\n",
    "for i in alphas:\n",
    "    rr = Ridge(alpha=i)\n",
    "    model = rr.fit(xtrain,ytrain)\n",
    "    tr_pred = model.predict(xtrain)\n",
    "    ts_pred = model.predict(xtest)\n",
    "    tr_err = mean_absolute_error(ytrain,tr_pred)\n",
    "    ts_err = mean_absolute_error(ytest,ts_pred)\n",
    "    tr.append(tr_err)\n",
    "    ts.append(ts_err)"
   ]
  },
  {
   "cell_type": "code",
   "execution_count": 75,
   "id": "c6708ee7",
   "metadata": {},
   "outputs": [
    {
     "data": {
      "text/plain": [
       "[<matplotlib.lines.Line2D at 0x15a18ed4730>]"
      ]
     },
     "execution_count": 75,
     "metadata": {},
     "output_type": "execute_result"
    },
    {
     "data": {
      "image/png": "[encoded data removed]",
      "text/plain": [
       "<Figure size 432x288 with 1 Axes>"
      ]
     },
     "metadata": {
      "needs_background": "light"
     },
     "output_type": "display_data"
    }
   ],
   "source": [
    "import matplotlib.pyplot as plt\n",
    "plt.plot(tr,c=\"blue\")\n",
    "plt.plot(ts,c=\"red\")"
   ]
  },
  {
   "cell_type": "markdown",
   "id": "f713933a",
   "metadata": {},
   "source": [
    "# Ridge Regresion Model - 3 (trying different alpha values)"
   ]
  },
  {
   "cell_type": "code",
   "execution_count": 76,
   "id": "b4f75fb3",
   "metadata": {},
   "outputs": [
    {
     "name": "stdout",
     "output_type": "stream",
     "text": [
      "11371.73817586111 11363.028414241893 8.709761619216806\n"
     ]
    }
   ],
   "source": [
    "from sklearn.linear_model import Ridge\n",
    "rr = Ridge(alpha=11.00)\n",
    "model = rr.fit(xtrain,ytrain)\n",
    "tr_pred = model.predict(xtrain)\n",
    "ts_pred = model.predict(xtest)\n",
    "tr_err = mean_absolute_error(ytrain,tr_pred)\n",
    "ts_err = mean_absolute_error(ytest,ts_pred)\n",
    "print(tr_err, ts_err, tr_err-ts_err)"
   ]
  },
  {
   "cell_type": "code",
   "execution_count": 77,
   "id": "161f650c",
   "metadata": {},
   "outputs": [],
   "source": [
    "def best_alpha_ridge(i):\n",
    "    from sklearn.linear_model import Ridge\n",
    "    rr = Ridge(alpha=i)\n",
    "    model = rr.fit(xtrain,ytrain)\n",
    "    tr_pred = model.predict(xtrain)\n",
    "    ts_pred = model.predict(xtest)\n",
    "    tr_err = mean_absolute_error(ytrain,tr_pred)\n",
    "    ts_err = mean_absolute_error(ytest,ts_pred)\n",
    "    return abs(tr_err - ts_err)"
   ]
  },
  {
   "cell_type": "code",
   "execution_count": 78,
   "id": "e729eff7",
   "metadata": {},
   "outputs": [],
   "source": [
    "x = 10.5\n",
    "alphas = []\n",
    "for i in range(0,500,1):\n",
    "    alphas.append(x)\n",
    "    x = round(x + 0.01,2)"
   ]
  },
  {
   "cell_type": "code",
   "execution_count": 79,
   "id": "771be75e",
   "metadata": {},
   "outputs": [],
   "source": [
    "curr_err = 0\n",
    "prev_err = 1\n",
    "best_alpha_val = 0 \n",
    "\n",
    "for i in alphas:\n",
    "    prev_err = best_alpha_ridge(i-0.01)\n",
    "    curr_err = best_alpha_ridge(i)\n",
    "    if(curr_err < prev_err):\n",
    "        best_alpha_val = i"
   ]
  },
  {
   "cell_type": "code",
   "execution_count": 80,
   "id": "444d257e",
   "metadata": {},
   "outputs": [
    {
     "data": {
      "text/plain": [
       "10.76"
      ]
     },
     "execution_count": 80,
     "metadata": {},
     "output_type": "execute_result"
    }
   ],
   "source": [
    "best_alpha_val"
   ]
  },
  {
   "cell_type": "markdown",
   "id": "458f4df1",
   "metadata": {},
   "source": [
    "# Ridge Regresion Model - 4 (trying different alpha values)"
   ]
  },
  {
   "cell_type": "code",
   "execution_count": 81,
   "id": "8097e19a",
   "metadata": {},
   "outputs": [
    {
     "name": "stdout",
     "output_type": "stream",
     "text": [
      "11356.483255263143 11356.432399036768 0.05085622637488996\n"
     ]
    }
   ],
   "source": [
    "from sklearn.linear_model import Ridge\n",
    "rr = Ridge(alpha=10.76)\n",
    "model = rr.fit(xtrain,ytrain)\n",
    "tr_pred = model.predict(xtrain)\n",
    "ts_pred = model.predict(xtest)\n",
    "tr_err = mean_absolute_error(ytrain,tr_pred)\n",
    "ts_err = mean_absolute_error(ytest,ts_pred)\n",
    "print(tr_err, ts_err, tr_err-ts_err)"
   ]
  },
  {
   "cell_type": "markdown",
   "id": "d5e8fcc6",
   "metadata": {},
   "source": [
    "### Best value of alpha using Ridge Regression Model = '10.76'."
   ]
  },
  {
   "cell_type": "markdown",
   "id": "85633d0d",
   "metadata": {},
   "source": [
    "# Lasso Regresion Model - 1 (trying different alpha values)"
   ]
  },
  {
   "cell_type": "code",
   "execution_count": 82,
   "id": "7aab4bc7",
   "metadata": {},
   "outputs": [
    {
     "name": "stdout",
     "output_type": "stream",
     "text": [
      "10183.343980689231 12332.122811664447 2148.778830975216\n"
     ]
    }
   ],
   "source": [
    "from sklearn.linear_model import Lasso\n",
    "ls = Lasso(alpha=1)\n",
    "model = ls.fit(xtrain,ytrain)\n",
    "tr_pred = model.predict(xtrain)\n",
    "ts_pred = model.predict(xtest)\n",
    "tr_err = mean_absolute_error(ytrain,tr_pred)\n",
    "ts_err = mean_absolute_error(ytest,ts_pred)\n",
    "print(tr_err, ts_err, ts_err - tr_err)"
   ]
  },
  {
   "cell_type": "markdown",
   "id": "7267f057",
   "metadata": {},
   "source": [
    "# Lasso Regresion Model - 2 (trying different alpha values)"
   ]
  },
  {
   "cell_type": "code",
   "execution_count": 83,
   "id": "19a7fa5c",
   "metadata": {},
   "outputs": [
    {
     "name": "stdout",
     "output_type": "stream",
     "text": [
      "10196.265925099 12218.245817178096 2021.9798920790963\n"
     ]
    }
   ],
   "source": [
    "from sklearn.linear_model import Lasso\n",
    "ls = Lasso(alpha=2)\n",
    "model = ls.fit(xtrain,ytrain)\n",
    "tr_pred = model.predict(xtrain)\n",
    "ts_pred = model.predict(xtest)\n",
    "tr_err = mean_absolute_error(ytrain,tr_pred)\n",
    "ts_err = mean_absolute_error(ytest,ts_pred)\n",
    "print(tr_err, ts_err, ts_err - tr_err)"
   ]
  },
  {
   "cell_type": "code",
   "execution_count": 84,
   "id": "936af1c4",
   "metadata": {},
   "outputs": [],
   "source": [
    "x = 80\n",
    "alphas = []\n",
    "for i in range(0,1000,1):\n",
    "    alphas.append(x)\n",
    "    x = round(x + 0.01,2)"
   ]
  },
  {
   "cell_type": "code",
   "execution_count": 85,
   "id": "258b34ab",
   "metadata": {},
   "outputs": [],
   "source": [
    "tr = []\n",
    "ts = []\n",
    "for i in alphas:\n",
    "    ls =  Lasso(alpha=i)\n",
    "    model = ls.fit(xtrain,ytrain)\n",
    "    tr_pred = model.predict(xtrain)\n",
    "    ts_pred = model.predict(xtest)\n",
    "    tr_err = mean_absolute_error(ytrain,tr_pred)\n",
    "    ts_err = mean_absolute_error(ytest,ts_pred)\n",
    "    tr.append(tr_err)\n",
    "    ts.append(ts_err)"
   ]
  },
  {
   "cell_type": "code",
   "execution_count": 86,
   "id": "fdf26c1b",
   "metadata": {},
   "outputs": [
    {
     "data": {
      "text/plain": [
       "[<matplotlib.lines.Line2D at 0x15a19023820>]"
      ]
     },
     "execution_count": 86,
     "metadata": {},
     "output_type": "execute_result"
    },
    {
     "data": {
      "image/png": "[encoded data removed]",
      "text/plain": [
       "<Figure size 432x288 with 1 Axes>"
      ]
     },
     "metadata": {
      "needs_background": "light"
     },
     "output_type": "display_data"
    }
   ],
   "source": [
    "plt.plot(tr,c=\"blue\")\n",
    "plt.plot(ts,c=\"red\")"
   ]
  },
  {
   "cell_type": "markdown",
   "id": "29a7c9ea",
   "metadata": {},
   "source": [
    "# Lasso Regresion Model - 3 (trying different alpha values)"
   ]
  },
  {
   "cell_type": "code",
   "execution_count": 87,
   "id": "2e4616bd",
   "metadata": {},
   "outputs": [
    {
     "name": "stdout",
     "output_type": "stream",
     "text": [
      "11491.616700683073 11491.7444992385 0.12779855542794394\n"
     ]
    }
   ],
   "source": [
    "from sklearn.linear_model import Lasso\n",
    "ls = Lasso(alpha=86)\n",
    "model = ls.fit(xtrain,ytrain)\n",
    "tr_pred = model.predict(xtrain)\n",
    "ts_pred = model.predict(xtest)\n",
    "tr_err = mean_absolute_error(ytrain,tr_pred)\n",
    "ts_err = mean_absolute_error(ytest,ts_pred)\n",
    "print(tr_err, ts_err, ts_err - tr_err)"
   ]
  },
  {
   "cell_type": "code",
   "execution_count": 88,
   "id": "4b70e4c4",
   "metadata": {},
   "outputs": [],
   "source": [
    "def best_alpha_lasso(i):\n",
    "    from sklearn.linear_model import Lasso\n",
    "    ls = Lasso(alpha=i)\n",
    "    model = ls.fit(xtrain,ytrain)\n",
    "    tr_pred = model.predict(xtrain)\n",
    "    ts_pred = model.predict(xtest)\n",
    "    tr_err = mean_absolute_error(ytrain,tr_pred)\n",
    "    ts_err = mean_absolute_error(ytest,ts_pred)\n",
    "    return abs(tr_err - ts_err)"
   ]
  },
  {
   "cell_type": "code",
   "execution_count": 89,
   "id": "20634863",
   "metadata": {},
   "outputs": [],
   "source": [
    "x = 80\n",
    "alphas = []\n",
    "for i in range(0,1000,1):\n",
    "    alphas.append(x)\n",
    "    x = round(x + 0.01,2)"
   ]
  },
  {
   "cell_type": "code",
   "execution_count": 90,
   "id": "5f2379ab",
   "metadata": {},
   "outputs": [],
   "source": [
    "curr_err = 0\n",
    "prev_err = 1\n",
    "best_alpha_val = 0 \n",
    "\n",
    "for i in alphas:\n",
    "    prev_err = best_alpha_lasso(i-0.01)\n",
    "    curr_err = best_alpha_lasso(i)\n",
    "    if(curr_err < prev_err):\n",
    "        best_alpha_val = i"
   ]
  },
  {
   "cell_type": "code",
   "execution_count": 91,
   "id": "61a9e9bf",
   "metadata": {},
   "outputs": [
    {
     "data": {
      "text/plain": [
       "86.04"
      ]
     },
     "execution_count": 91,
     "metadata": {},
     "output_type": "execute_result"
    }
   ],
   "source": [
    "best_alpha_val"
   ]
  },
  {
   "cell_type": "markdown",
   "id": "3d2a2cf6",
   "metadata": {},
   "source": [
    "# Lasso Regresion Model - 4 (trying different alpha values)"
   ]
  },
  {
   "cell_type": "code",
   "execution_count": 92,
   "id": "82028ed4",
   "metadata": {},
   "outputs": [
    {
     "name": "stdout",
     "output_type": "stream",
     "text": [
      "11491.982336117684 11491.980083668355 -0.0022524493288074154\n"
     ]
    }
   ],
   "source": [
    "from sklearn.linear_model import Lasso\n",
    "ls = Lasso(alpha=86.04)\n",
    "model = ls.fit(xtrain,ytrain)\n",
    "tr_pred = model.predict(xtrain)\n",
    "ts_pred = model.predict(xtest)\n",
    "tr_err = mean_absolute_error(ytrain,tr_pred)\n",
    "ts_err = mean_absolute_error(ytest,ts_pred)\n",
    "print(tr_err, ts_err, ts_err - tr_err)"
   ]
  },
  {
   "cell_type": "markdown",
   "id": "a9c6d137",
   "metadata": {},
   "source": [
    "### Best value of alpha using Lasso Regression Model = '86.04'."
   ]
  },
  {
   "cell_type": "markdown",
   "id": "cec5b448",
   "metadata": {},
   "source": [
    "# Choosing Lasso Model"
   ]
  },
  {
   "cell_type": "code",
   "execution_count": 93,
   "id": "d8e05e15",
   "metadata": {},
   "outputs": [
    {
     "name": "stdout",
     "output_type": "stream",
     "text": [
      "11491.982336117684 11491.980083668355 -0.0022524493288074154\n"
     ]
    }
   ],
   "source": [
    "from sklearn.linear_model import Lasso\n",
    "ls = Lasso(alpha=86.04)\n",
    "model = ls.fit(xtrain,ytrain)\n",
    "tr_pred = model.predict(xtrain)\n",
    "ts_pred = model.predict(xtest)\n",
    "tr_err = mean_absolute_error(ytrain,tr_pred)\n",
    "ts_err = mean_absolute_error(ytest,ts_pred)\n",
    "print(tr_err, ts_err, ts_err - tr_err)"
   ]
  },
  {
   "cell_type": "code",
   "execution_count": 94,
   "id": "3cf77ea0",
   "metadata": {},
   "outputs": [
    {
     "data": {
      "text/plain": [
       "array([-6.59814434e+03,  3.25046432e+03,  9.45210569e+03,  5.43271665e+03,\n",
       "        1.09356942e+04,  1.72002086e+03,  1.10111486e+03,  6.24570076e+03,\n",
       "        3.06700446e+02, -0.00000000e+00,  4.27799529e+03,  1.62084353e+04,\n",
       "        2.23036449e+04,  1.79812120e+03,  2.96203305e+03,  4.25540702e+03,\n",
       "        2.78588911e+03,  1.65246738e+03,  2.34046122e+02,  0.00000000e+00,\n",
       "        9.56385520e+02,  8.87132362e+02, -1.16984410e+04,  1.01328180e+04,\n",
       "       -0.00000000e+00,  0.00000000e+00, -0.00000000e+00,  8.68589354e+03,\n",
       "       -3.05829801e+02,  0.00000000e+00,  0.00000000e+00,  2.14138058e+03,\n",
       "        4.85334915e+03, -0.00000000e+00,  0.00000000e+00,  4.39636760e+03,\n",
       "        0.00000000e+00,  4.23315581e+03, -8.77123595e+02,  2.61120487e+04,\n",
       "       -3.28498458e+03, -8.46785273e+02, -2.53390851e+03, -2.18498885e+03,\n",
       "        0.00000000e+00, -6.66430284e+03,  9.22375805e+03,  1.30551381e+04,\n",
       "       -4.30722275e+03,  3.22525992e+04, -0.00000000e+00,  0.00000000e+00,\n",
       "        7.09664368e+03,  0.00000000e+00, -4.66629820e+03,  0.00000000e+00,\n",
       "       -0.00000000e+00,  2.68029258e+03,  0.00000000e+00,  2.61177956e+03,\n",
       "       -0.00000000e+00, -0.00000000e+00,  3.56996638e+03, -0.00000000e+00,\n",
       "        1.16413573e+04,  0.00000000e+00,  0.00000000e+00, -3.45462178e+03,\n",
       "       -0.00000000e+00,  0.00000000e+00,  0.00000000e+00,  0.00000000e+00,\n",
       "        0.00000000e+00,  2.87573663e+03,  1.03819765e+03,  4.80211240e+02,\n",
       "        0.00000000e+00,  5.96107474e+03,  9.30667284e+03,  4.67817985e+03,\n",
       "       -0.00000000e+00,  6.31517052e+03,  1.62845300e+04,  1.60557835e+03,\n",
       "        2.93614734e+02,  9.88386045e-13,  0.00000000e+00,  6.98028003e+03,\n",
       "        6.10387016e+00,  6.96150149e+03, -3.39649277e+03,  3.22846228e+01,\n",
       "        1.75866645e+02,  0.00000000e+00, -1.98513735e+02,  4.05570545e+01,\n",
       "       -0.00000000e+00,  0.00000000e+00,  0.00000000e+00,  0.00000000e+00,\n",
       "       -0.00000000e+00,  2.00450636e+04, -0.00000000e+00, -0.00000000e+00,\n",
       "        0.00000000e+00,  1.09318883e+04,  2.48397278e+03,  0.00000000e+00,\n",
       "        1.99037905e+03, -0.00000000e+00, -4.13195455e+02, -0.00000000e+00,\n",
       "        0.00000000e+00,  9.17767105e+02,  0.00000000e+00,  7.82095212e-12,\n",
       "       -0.00000000e+00, -1.00547389e+03,  0.00000000e+00,  0.00000000e+00,\n",
       "        3.28385074e+02, -0.00000000e+00,  0.00000000e+00,  3.69633181e+03,\n",
       "       -0.00000000e+00,  0.00000000e+00,  0.00000000e+00,  0.00000000e+00,\n",
       "       -0.00000000e+00,  1.17382461e+04, -0.00000000e+00,  0.00000000e+00,\n",
       "        0.00000000e+00, -1.78170756e+03,  0.00000000e+00, -0.00000000e+00,\n",
       "        6.80831164e+03])"
      ]
     },
     "execution_count": 94,
     "metadata": {},
     "output_type": "execute_result"
    }
   ],
   "source": [
    "model.coef_"
   ]
  },
  {
   "cell_type": "code",
   "execution_count": 95,
   "id": "169ecd9f",
   "metadata": {},
   "outputs": [],
   "source": [
    "K = pd.DataFrame([Xnew.columns,model.coef_]).T\n",
    "K.columns=[\"Feature\",\"Coef\"]"
   ]
  },
  {
   "cell_type": "markdown",
   "id": "037a18d7",
   "metadata": {},
   "source": [
    "### these features add no significant value to the model, therefore can be removed."
   ]
  },
  {
   "cell_type": "code",
   "execution_count": 96,
   "id": "d1c3f1a1",
   "metadata": {},
   "outputs": [
    {
     "data": {
      "text/html": [
       "<div>\n",
       "<style scoped>\n",
       "    .dataframe tbody tr th:only-of-type {\n",
       "        vertical-align: middle;\n",
       "    }\n",
       "\n",
       "    .dataframe tbody tr th {\n",
       "        vertical-align: top;\n",
       "    }\n",
       "\n",
       "    .dataframe thead th {\n",
       "        text-align: right;\n",
       "    }\n",
       "</style>\n",
       "<table border=\"1\" class=\"dataframe\">\n",
       "  <thead>\n",
       "    <tr style=\"text-align: right;\">\n",
       "      <th></th>\n",
       "      <th>Feature</th>\n",
       "      <th>Coef</th>\n",
       "    </tr>\n",
       "  </thead>\n",
       "  <tbody>\n",
       "    <tr>\n",
       "      <th>9</th>\n",
       "      <td>BsmtUnfSF</td>\n",
       "      <td>-0.0</td>\n",
       "    </tr>\n",
       "    <tr>\n",
       "      <th>19</th>\n",
       "      <td>3SsnPorch</td>\n",
       "      <td>0.0</td>\n",
       "    </tr>\n",
       "    <tr>\n",
       "      <th>24</th>\n",
       "      <td>Street_Grvl</td>\n",
       "      <td>-0.0</td>\n",
       "    </tr>\n",
       "    <tr>\n",
       "      <th>25</th>\n",
       "      <td>Alley_Grvl</td>\n",
       "      <td>0.0</td>\n",
       "    </tr>\n",
       "    <tr>\n",
       "      <th>26</th>\n",
       "      <td>LandContour_Bnk</td>\n",
       "      <td>-0.0</td>\n",
       "    </tr>\n",
       "    <tr>\n",
       "      <th>29</th>\n",
       "      <td>LandContour_Lvl</td>\n",
       "      <td>0.0</td>\n",
       "    </tr>\n",
       "    <tr>\n",
       "      <th>30</th>\n",
       "      <td>Utilities_AllPub</td>\n",
       "      <td>0.0</td>\n",
       "    </tr>\n",
       "    <tr>\n",
       "      <th>33</th>\n",
       "      <td>LotConfig_Inside</td>\n",
       "      <td>-0.0</td>\n",
       "    </tr>\n",
       "    <tr>\n",
       "      <th>34</th>\n",
       "      <td>LandSlope_Mod</td>\n",
       "      <td>0.0</td>\n",
       "    </tr>\n",
       "    <tr>\n",
       "      <th>36</th>\n",
       "      <td>Neighborhood_BrDale</td>\n",
       "      <td>0.0</td>\n",
       "    </tr>\n",
       "    <tr>\n",
       "      <th>44</th>\n",
       "      <td>Neighborhood_NPkVill</td>\n",
       "      <td>0.0</td>\n",
       "    </tr>\n",
       "    <tr>\n",
       "      <th>50</th>\n",
       "      <td>Neighborhood_Timber</td>\n",
       "      <td>-0.0</td>\n",
       "    </tr>\n",
       "    <tr>\n",
       "      <th>51</th>\n",
       "      <td>Condition1_Feedr</td>\n",
       "      <td>0.0</td>\n",
       "    </tr>\n",
       "    <tr>\n",
       "      <th>53</th>\n",
       "      <td>Condition1_PosN</td>\n",
       "      <td>0.0</td>\n",
       "    </tr>\n",
       "    <tr>\n",
       "      <th>55</th>\n",
       "      <td>Condition1_RRAn</td>\n",
       "      <td>0.0</td>\n",
       "    </tr>\n",
       "    <tr>\n",
       "      <th>56</th>\n",
       "      <td>BldgType_Duplex</td>\n",
       "      <td>-0.0</td>\n",
       "    </tr>\n",
       "    <tr>\n",
       "      <th>58</th>\n",
       "      <td>HouseStyle_1Story</td>\n",
       "      <td>0.0</td>\n",
       "    </tr>\n",
       "    <tr>\n",
       "      <th>60</th>\n",
       "      <td>HouseStyle_SLvl</td>\n",
       "      <td>-0.0</td>\n",
       "    </tr>\n",
       "    <tr>\n",
       "      <th>61</th>\n",
       "      <td>RoofMatl_WdShake</td>\n",
       "      <td>-0.0</td>\n",
       "    </tr>\n",
       "    <tr>\n",
       "      <th>63</th>\n",
       "      <td>Exterior1st_BrkComm</td>\n",
       "      <td>-0.0</td>\n",
       "    </tr>\n",
       "    <tr>\n",
       "      <th>65</th>\n",
       "      <td>Exterior1st_CBlock</td>\n",
       "      <td>0.0</td>\n",
       "    </tr>\n",
       "    <tr>\n",
       "      <th>66</th>\n",
       "      <td>Exterior1st_CemntBd</td>\n",
       "      <td>0.0</td>\n",
       "    </tr>\n",
       "    <tr>\n",
       "      <th>68</th>\n",
       "      <td>Exterior1st_Wd Sdng</td>\n",
       "      <td>-0.0</td>\n",
       "    </tr>\n",
       "    <tr>\n",
       "      <th>69</th>\n",
       "      <td>Exterior1st_WdShing</td>\n",
       "      <td>0.0</td>\n",
       "    </tr>\n",
       "    <tr>\n",
       "      <th>70</th>\n",
       "      <td>Exterior2nd_CBlock</td>\n",
       "      <td>0.0</td>\n",
       "    </tr>\n",
       "    <tr>\n",
       "      <th>71</th>\n",
       "      <td>Exterior2nd_CmentBd</td>\n",
       "      <td>0.0</td>\n",
       "    </tr>\n",
       "    <tr>\n",
       "      <th>72</th>\n",
       "      <td>Exterior2nd_HdBoard</td>\n",
       "      <td>0.0</td>\n",
       "    </tr>\n",
       "    <tr>\n",
       "      <th>76</th>\n",
       "      <td>Exterior2nd_Wd Sdng</td>\n",
       "      <td>0.0</td>\n",
       "    </tr>\n",
       "    <tr>\n",
       "      <th>80</th>\n",
       "      <td>ExterCond_Gd</td>\n",
       "      <td>-0.0</td>\n",
       "    </tr>\n",
       "    <tr>\n",
       "      <th>85</th>\n",
       "      <td>BsmtCond_No Basement</td>\n",
       "      <td>0.0</td>\n",
       "    </tr>\n",
       "    <tr>\n",
       "      <th>86</th>\n",
       "      <td>BsmtCond_TA</td>\n",
       "      <td>0.0</td>\n",
       "    </tr>\n",
       "    <tr>\n",
       "      <th>93</th>\n",
       "      <td>BsmtFinType2_ALQ</td>\n",
       "      <td>0.0</td>\n",
       "    </tr>\n",
       "    <tr>\n",
       "      <th>96</th>\n",
       "      <td>BsmtFinType2_Rec</td>\n",
       "      <td>-0.0</td>\n",
       "    </tr>\n",
       "    <tr>\n",
       "      <th>97</th>\n",
       "      <td>Heating_Grav</td>\n",
       "      <td>0.0</td>\n",
       "    </tr>\n",
       "    <tr>\n",
       "      <th>98</th>\n",
       "      <td>Heating_Wall</td>\n",
       "      <td>0.0</td>\n",
       "    </tr>\n",
       "    <tr>\n",
       "      <th>99</th>\n",
       "      <td>CentralAir_N</td>\n",
       "      <td>0.0</td>\n",
       "    </tr>\n",
       "    <tr>\n",
       "      <th>100</th>\n",
       "      <td>CentralAir_Y</td>\n",
       "      <td>-0.0</td>\n",
       "    </tr>\n",
       "    <tr>\n",
       "      <th>102</th>\n",
       "      <td>Functional_Maj1</td>\n",
       "      <td>-0.0</td>\n",
       "    </tr>\n",
       "    <tr>\n",
       "      <th>103</th>\n",
       "      <td>Functional_Min1</td>\n",
       "      <td>-0.0</td>\n",
       "    </tr>\n",
       "    <tr>\n",
       "      <th>104</th>\n",
       "      <td>Functional_Min2</td>\n",
       "      <td>0.0</td>\n",
       "    </tr>\n",
       "    <tr>\n",
       "      <th>107</th>\n",
       "      <td>FireplaceQu_No Fireplace</td>\n",
       "      <td>0.0</td>\n",
       "    </tr>\n",
       "    <tr>\n",
       "      <th>109</th>\n",
       "      <td>FireplaceQu_TA</td>\n",
       "      <td>-0.0</td>\n",
       "    </tr>\n",
       "    <tr>\n",
       "      <th>111</th>\n",
       "      <td>GarageType_BuiltIn</td>\n",
       "      <td>-0.0</td>\n",
       "    </tr>\n",
       "    <tr>\n",
       "      <th>112</th>\n",
       "      <td>GarageType_CarPort</td>\n",
       "      <td>0.0</td>\n",
       "    </tr>\n",
       "    <tr>\n",
       "      <th>114</th>\n",
       "      <td>GarageFinish_Fin</td>\n",
       "      <td>0.0</td>\n",
       "    </tr>\n",
       "    <tr>\n",
       "      <th>115</th>\n",
       "      <td>GarageFinish_No Garage</td>\n",
       "      <td>0.0</td>\n",
       "    </tr>\n",
       "    <tr>\n",
       "      <th>116</th>\n",
       "      <td>GarageFinish_RFn</td>\n",
       "      <td>-0.0</td>\n",
       "    </tr>\n",
       "    <tr>\n",
       "      <th>118</th>\n",
       "      <td>GarageQual_Ex</td>\n",
       "      <td>0.0</td>\n",
       "    </tr>\n",
       "    <tr>\n",
       "      <th>119</th>\n",
       "      <td>GarageQual_Gd</td>\n",
       "      <td>0.0</td>\n",
       "    </tr>\n",
       "    <tr>\n",
       "      <th>121</th>\n",
       "      <td>GarageQual_TA</td>\n",
       "      <td>-0.0</td>\n",
       "    </tr>\n",
       "    <tr>\n",
       "      <th>122</th>\n",
       "      <td>GarageCond_Ex</td>\n",
       "      <td>0.0</td>\n",
       "    </tr>\n",
       "    <tr>\n",
       "      <th>124</th>\n",
       "      <td>GarageCond_Po</td>\n",
       "      <td>-0.0</td>\n",
       "    </tr>\n",
       "    <tr>\n",
       "      <th>125</th>\n",
       "      <td>PavedDrive_N</td>\n",
       "      <td>0.0</td>\n",
       "    </tr>\n",
       "    <tr>\n",
       "      <th>126</th>\n",
       "      <td>PavedDrive_Y</td>\n",
       "      <td>0.0</td>\n",
       "    </tr>\n",
       "    <tr>\n",
       "      <th>127</th>\n",
       "      <td>PoolQC_No Pool</td>\n",
       "      <td>0.0</td>\n",
       "    </tr>\n",
       "    <tr>\n",
       "      <th>128</th>\n",
       "      <td>Fence_MnWw</td>\n",
       "      <td>-0.0</td>\n",
       "    </tr>\n",
       "    <tr>\n",
       "      <th>130</th>\n",
       "      <td>SaleType_ConLD</td>\n",
       "      <td>-0.0</td>\n",
       "    </tr>\n",
       "    <tr>\n",
       "      <th>131</th>\n",
       "      <td>SaleType_ConLw</td>\n",
       "      <td>0.0</td>\n",
       "    </tr>\n",
       "    <tr>\n",
       "      <th>132</th>\n",
       "      <td>SaleType_New</td>\n",
       "      <td>0.0</td>\n",
       "    </tr>\n",
       "    <tr>\n",
       "      <th>134</th>\n",
       "      <td>SaleCondition_AdjLand</td>\n",
       "      <td>0.0</td>\n",
       "    </tr>\n",
       "    <tr>\n",
       "      <th>135</th>\n",
       "      <td>SaleCondition_Alloca</td>\n",
       "      <td>-0.0</td>\n",
       "    </tr>\n",
       "  </tbody>\n",
       "</table>\n",
       "</div>"
      ],
      "text/plain": [
       "                      Feature Coef\n",
       "9                   BsmtUnfSF -0.0\n",
       "19                  3SsnPorch  0.0\n",
       "24                Street_Grvl -0.0\n",
       "25                 Alley_Grvl  0.0\n",
       "26            LandContour_Bnk -0.0\n",
       "29            LandContour_Lvl  0.0\n",
       "30           Utilities_AllPub  0.0\n",
       "33           LotConfig_Inside -0.0\n",
       "34              LandSlope_Mod  0.0\n",
       "36        Neighborhood_BrDale  0.0\n",
       "44       Neighborhood_NPkVill  0.0\n",
       "50        Neighborhood_Timber -0.0\n",
       "51           Condition1_Feedr  0.0\n",
       "53            Condition1_PosN  0.0\n",
       "55            Condition1_RRAn  0.0\n",
       "56            BldgType_Duplex -0.0\n",
       "58          HouseStyle_1Story  0.0\n",
       "60            HouseStyle_SLvl -0.0\n",
       "61           RoofMatl_WdShake -0.0\n",
       "63        Exterior1st_BrkComm -0.0\n",
       "65         Exterior1st_CBlock  0.0\n",
       "66        Exterior1st_CemntBd  0.0\n",
       "68        Exterior1st_Wd Sdng -0.0\n",
       "69        Exterior1st_WdShing  0.0\n",
       "70         Exterior2nd_CBlock  0.0\n",
       "71        Exterior2nd_CmentBd  0.0\n",
       "72        Exterior2nd_HdBoard  0.0\n",
       "76        Exterior2nd_Wd Sdng  0.0\n",
       "80               ExterCond_Gd -0.0\n",
       "85       BsmtCond_No Basement  0.0\n",
       "86                BsmtCond_TA  0.0\n",
       "93           BsmtFinType2_ALQ  0.0\n",
       "96           BsmtFinType2_Rec -0.0\n",
       "97               Heating_Grav  0.0\n",
       "98               Heating_Wall  0.0\n",
       "99               CentralAir_N  0.0\n",
       "100              CentralAir_Y -0.0\n",
       "102           Functional_Maj1 -0.0\n",
       "103           Functional_Min1 -0.0\n",
       "104           Functional_Min2  0.0\n",
       "107  FireplaceQu_No Fireplace  0.0\n",
       "109            FireplaceQu_TA -0.0\n",
       "111        GarageType_BuiltIn -0.0\n",
       "112        GarageType_CarPort  0.0\n",
       "114          GarageFinish_Fin  0.0\n",
       "115    GarageFinish_No Garage  0.0\n",
       "116          GarageFinish_RFn -0.0\n",
       "118             GarageQual_Ex  0.0\n",
       "119             GarageQual_Gd  0.0\n",
       "121             GarageQual_TA -0.0\n",
       "122             GarageCond_Ex  0.0\n",
       "124             GarageCond_Po -0.0\n",
       "125              PavedDrive_N  0.0\n",
       "126              PavedDrive_Y  0.0\n",
       "127            PoolQC_No Pool  0.0\n",
       "128                Fence_MnWw -0.0\n",
       "130            SaleType_ConLD -0.0\n",
       "131            SaleType_ConLw  0.0\n",
       "132              SaleType_New  0.0\n",
       "134     SaleCondition_AdjLand  0.0\n",
       "135      SaleCondition_Alloca -0.0"
      ]
     },
     "execution_count": 96,
     "metadata": {},
     "output_type": "execute_result"
    }
   ],
   "source": [
    "K[(K.Coef>-0.99) & (K.Coef<0.01)]"
   ]
  },
  {
   "cell_type": "code",
   "execution_count": 97,
   "id": "e1f098ba",
   "metadata": {},
   "outputs": [],
   "source": [
    "feature_to_remove = list(K[(K.Coef>-0.99) & (K.Coef<0.01)]['Feature']) # removing unnecessary features"
   ]
  },
  {
   "cell_type": "code",
   "execution_count": 98,
   "id": "2f72ae94",
   "metadata": {},
   "outputs": [
    {
     "data": {
      "text/plain": [
       "['BsmtUnfSF',\n",
       " '3SsnPorch',\n",
       " 'Street_Grvl',\n",
       " 'Alley_Grvl',\n",
       " 'LandContour_Bnk',\n",
       " 'LandContour_Lvl',\n",
       " 'Utilities_AllPub',\n",
       " 'LotConfig_Inside',\n",
       " 'LandSlope_Mod',\n",
       " 'Neighborhood_BrDale',\n",
       " 'Neighborhood_NPkVill',\n",
       " 'Neighborhood_Timber',\n",
       " 'Condition1_Feedr',\n",
       " 'Condition1_PosN',\n",
       " 'Condition1_RRAn',\n",
       " 'BldgType_Duplex',\n",
       " 'HouseStyle_1Story',\n",
       " 'HouseStyle_SLvl',\n",
       " 'RoofMatl_WdShake',\n",
       " 'Exterior1st_BrkComm',\n",
       " 'Exterior1st_CBlock',\n",
       " 'Exterior1st_CemntBd',\n",
       " 'Exterior1st_Wd Sdng',\n",
       " 'Exterior1st_WdShing',\n",
       " 'Exterior2nd_CBlock',\n",
       " 'Exterior2nd_CmentBd',\n",
       " 'Exterior2nd_HdBoard',\n",
       " 'Exterior2nd_Wd Sdng',\n",
       " 'ExterCond_Gd',\n",
       " 'BsmtCond_No Basement',\n",
       " 'BsmtCond_TA',\n",
       " 'BsmtFinType2_ALQ',\n",
       " 'BsmtFinType2_Rec',\n",
       " 'Heating_Grav',\n",
       " 'Heating_Wall',\n",
       " 'CentralAir_N',\n",
       " 'CentralAir_Y',\n",
       " 'Functional_Maj1',\n",
       " 'Functional_Min1',\n",
       " 'Functional_Min2',\n",
       " 'FireplaceQu_No Fireplace',\n",
       " 'FireplaceQu_TA',\n",
       " 'GarageType_BuiltIn',\n",
       " 'GarageType_CarPort',\n",
       " 'GarageFinish_Fin',\n",
       " 'GarageFinish_No Garage',\n",
       " 'GarageFinish_RFn',\n",
       " 'GarageQual_Ex',\n",
       " 'GarageQual_Gd',\n",
       " 'GarageQual_TA',\n",
       " 'GarageCond_Ex',\n",
       " 'GarageCond_Po',\n",
       " 'PavedDrive_N',\n",
       " 'PavedDrive_Y',\n",
       " 'PoolQC_No Pool',\n",
       " 'Fence_MnWw',\n",
       " 'SaleType_ConLD',\n",
       " 'SaleType_ConLw',\n",
       " 'SaleType_New',\n",
       " 'SaleCondition_AdjLand',\n",
       " 'SaleCondition_Alloca']"
      ]
     },
     "execution_count": 98,
     "metadata": {},
     "output_type": "execute_result"
    }
   ],
   "source": [
    "feature_to_remove"
   ]
  },
  {
   "cell_type": "code",
   "execution_count": 99,
   "id": "8ecb9e43",
   "metadata": {},
   "outputs": [],
   "source": [
    "Xnew = Xnew.drop(labels=feature_to_remove, axis=1)"
   ]
  },
  {
   "cell_type": "markdown",
   "id": "dc45a7a0",
   "metadata": {},
   "source": [
    "# Final Model"
   ]
  },
  {
   "cell_type": "code",
   "execution_count": 100,
   "id": "88116498",
   "metadata": {},
   "outputs": [
    {
     "name": "stdout",
     "output_type": "stream",
     "text": [
      "11491.99839828043 11491.94868904783 -0.049709232600434916\n"
     ]
    }
   ],
   "source": [
    "xtrain, xtest, ytrain, ytest = train_test_split(Xnew, Y, test_size=0.2, random_state=31)\n",
    "\n",
    "ls = Lasso(alpha=86.04)\n",
    "model = ls.fit(xtrain,ytrain)\n",
    "tr_pred = model.predict(xtrain)\n",
    "ts_pred = model.predict(xtest)\n",
    "tr_err = mean_absolute_error(ytrain,tr_pred)\n",
    "ts_err = mean_absolute_error(ytest,ts_pred)\n",
    "print(tr_err, ts_err, ts_err - tr_err)"
   ]
  },
  {
   "cell_type": "code",
   "execution_count": 101,
   "id": "a294ac50",
   "metadata": {},
   "outputs": [
    {
     "name": "stdout",
     "output_type": "stream",
     "text": [
      "Training Error: 11491.99839828043\n",
      "Testing Error: 11491.94868904783\n",
      "Generalization Error: -0.049709232600434916\n"
     ]
    }
   ],
   "source": [
    "print(\"Training Error:\", tr_err)\n",
    "print(\"Testing Error:\", ts_err)\n",
    "print(\"Generalization Error:\", ts_err - tr_err)"
   ]
  },
  {
   "cell_type": "markdown",
   "id": "5acf7b90",
   "metadata": {},
   "source": [
    "# Preparing Testing Data"
   ]
  },
  {
   "cell_type": "code",
   "execution_count": 102,
   "id": "d190b821",
   "metadata": {},
   "outputs": [],
   "source": [
    "test_data = pd.read_csv(\"testing_set.csv\")"
   ]
  },
  {
   "cell_type": "code",
   "execution_count": 103,
   "id": "3655ec87",
   "metadata": {},
   "outputs": [
    {
     "data": {
      "text/html": [
       "<div>\n",
       "<style scoped>\n",
       "    .dataframe tbody tr th:only-of-type {\n",
       "        vertical-align: middle;\n",
       "    }\n",
       "\n",
       "    .dataframe tbody tr th {\n",
       "        vertical-align: top;\n",
       "    }\n",
       "\n",
       "    .dataframe thead th {\n",
       "        text-align: right;\n",
       "    }\n",
       "</style>\n",
       "<table border=\"1\" class=\"dataframe\">\n",
       "  <thead>\n",
       "    <tr style=\"text-align: right;\">\n",
       "      <th></th>\n",
       "      <th>Id</th>\n",
       "      <th>MSSubClass</th>\n",
       "      <th>MSZoning</th>\n",
       "      <th>LotFrontage</th>\n",
       "      <th>LotArea</th>\n",
       "      <th>Street</th>\n",
       "      <th>Alley</th>\n",
       "      <th>LotShape</th>\n",
       "      <th>LandContour</th>\n",
       "      <th>Utilities</th>\n",
       "      <th>LotConfig</th>\n",
       "      <th>LandSlope</th>\n",
       "      <th>Neighborhood</th>\n",
       "      <th>Condition1</th>\n",
       "      <th>Condition2</th>\n",
       "      <th>BldgType</th>\n",
       "      <th>HouseStyle</th>\n",
       "      <th>OverallQual</th>\n",
       "      <th>OverallCond</th>\n",
       "      <th>YearBuilt</th>\n",
       "      <th>YearRemodAdd</th>\n",
       "      <th>RoofStyle</th>\n",
       "      <th>RoofMatl</th>\n",
       "      <th>Exterior1st</th>\n",
       "      <th>Exterior2nd</th>\n",
       "      <th>MasVnrType</th>\n",
       "      <th>MasVnrArea</th>\n",
       "      <th>ExterQual</th>\n",
       "      <th>ExterCond</th>\n",
       "      <th>Foundation</th>\n",
       "      <th>BsmtQual</th>\n",
       "      <th>BsmtCond</th>\n",
       "      <th>BsmtExposure</th>\n",
       "      <th>BsmtFinType1</th>\n",
       "      <th>BsmtFinSF1</th>\n",
       "      <th>BsmtFinType2</th>\n",
       "      <th>BsmtFinSF2</th>\n",
       "      <th>BsmtUnfSF</th>\n",
       "      <th>TotalBsmtSF</th>\n",
       "      <th>Heating</th>\n",
       "      <th>HeatingQC</th>\n",
       "      <th>CentralAir</th>\n",
       "      <th>Electrical</th>\n",
       "      <th>1stFlrSF</th>\n",
       "      <th>2ndFlrSF</th>\n",
       "      <th>LowQualFinSF</th>\n",
       "      <th>GrLivArea</th>\n",
       "      <th>BsmtFullBath</th>\n",
       "      <th>BsmtHalfBath</th>\n",
       "      <th>FullBath</th>\n",
       "      <th>HalfBath</th>\n",
       "      <th>BedroomAbvGr</th>\n",
       "      <th>KitchenAbvGr</th>\n",
       "      <th>KitchenQual</th>\n",
       "      <th>TotRmsAbvGrd</th>\n",
       "      <th>Functional</th>\n",
       "      <th>Fireplaces</th>\n",
       "      <th>FireplaceQu</th>\n",
       "      <th>GarageType</th>\n",
       "      <th>GarageYrBlt</th>\n",
       "      <th>GarageFinish</th>\n",
       "      <th>GarageCars</th>\n",
       "      <th>GarageArea</th>\n",
       "      <th>GarageQual</th>\n",
       "      <th>GarageCond</th>\n",
       "      <th>PavedDrive</th>\n",
       "      <th>WoodDeckSF</th>\n",
       "      <th>OpenPorchSF</th>\n",
       "      <th>EnclosedPorch</th>\n",
       "      <th>3SsnPorch</th>\n",
       "      <th>ScreenPorch</th>\n",
       "      <th>PoolArea</th>\n",
       "      <th>PoolQC</th>\n",
       "      <th>Fence</th>\n",
       "      <th>MiscFeature</th>\n",
       "      <th>MiscVal</th>\n",
       "      <th>MoSold</th>\n",
       "      <th>YrSold</th>\n",
       "      <th>SaleType</th>\n",
       "      <th>SaleCondition</th>\n",
       "    </tr>\n",
       "  </thead>\n",
       "  <tbody>\n",
       "    <tr>\n",
       "      <th>0</th>\n",
       "      <td>1461</td>\n",
       "      <td>20</td>\n",
       "      <td>RH</td>\n",
       "      <td>80.0</td>\n",
       "      <td>11622</td>\n",
       "      <td>Pave</td>\n",
       "      <td>NaN</td>\n",
       "      <td>Reg</td>\n",
       "      <td>Lvl</td>\n",
       "      <td>AllPub</td>\n",
       "      <td>Inside</td>\n",
       "      <td>Gtl</td>\n",
       "      <td>NAmes</td>\n",
       "      <td>Feedr</td>\n",
       "      <td>Norm</td>\n",
       "      <td>1Fam</td>\n",
       "      <td>1Story</td>\n",
       "      <td>5</td>\n",
       "      <td>6</td>\n",
       "      <td>1961</td>\n",
       "      <td>1961</td>\n",
       "      <td>Gable</td>\n",
       "      <td>CompShg</td>\n",
       "      <td>VinylSd</td>\n",
       "      <td>VinylSd</td>\n",
       "      <td>None</td>\n",
       "      <td>0.0</td>\n",
       "      <td>TA</td>\n",
       "      <td>TA</td>\n",
       "      <td>CBlock</td>\n",
       "      <td>TA</td>\n",
       "      <td>TA</td>\n",
       "      <td>No</td>\n",
       "      <td>Rec</td>\n",
       "      <td>468.0</td>\n",
       "      <td>LwQ</td>\n",
       "      <td>144.0</td>\n",
       "      <td>270.0</td>\n",
       "      <td>882.0</td>\n",
       "      <td>GasA</td>\n",
       "      <td>TA</td>\n",
       "      <td>Y</td>\n",
       "      <td>SBrkr</td>\n",
       "      <td>896</td>\n",
       "      <td>0</td>\n",
       "      <td>0</td>\n",
       "      <td>896</td>\n",
       "      <td>0.0</td>\n",
       "      <td>0.0</td>\n",
       "      <td>1</td>\n",
       "      <td>0</td>\n",
       "      <td>2</td>\n",
       "      <td>1</td>\n",
       "      <td>TA</td>\n",
       "      <td>5</td>\n",
       "      <td>Typ</td>\n",
       "      <td>0</td>\n",
       "      <td>NaN</td>\n",
       "      <td>Attchd</td>\n",
       "      <td>1961.0</td>\n",
       "      <td>Unf</td>\n",
       "      <td>1.0</td>\n",
       "      <td>730.0</td>\n",
       "      <td>TA</td>\n",
       "      <td>TA</td>\n",
       "      <td>Y</td>\n",
       "      <td>140</td>\n",
       "      <td>0</td>\n",
       "      <td>0</td>\n",
       "      <td>0</td>\n",
       "      <td>120</td>\n",
       "      <td>0</td>\n",
       "      <td>NaN</td>\n",
       "      <td>MnPrv</td>\n",
       "      <td>NaN</td>\n",
       "      <td>0</td>\n",
       "      <td>6</td>\n",
       "      <td>2010</td>\n",
       "      <td>WD</td>\n",
       "      <td>Normal</td>\n",
       "    </tr>\n",
       "    <tr>\n",
       "      <th>1</th>\n",
       "      <td>1462</td>\n",
       "      <td>20</td>\n",
       "      <td>RL</td>\n",
       "      <td>81.0</td>\n",
       "      <td>14267</td>\n",
       "      <td>Pave</td>\n",
       "      <td>NaN</td>\n",
       "      <td>IR1</td>\n",
       "      <td>Lvl</td>\n",
       "      <td>AllPub</td>\n",
       "      <td>Corner</td>\n",
       "      <td>Gtl</td>\n",
       "      <td>NAmes</td>\n",
       "      <td>Norm</td>\n",
       "      <td>Norm</td>\n",
       "      <td>1Fam</td>\n",
       "      <td>1Story</td>\n",
       "      <td>6</td>\n",
       "      <td>6</td>\n",
       "      <td>1958</td>\n",
       "      <td>1958</td>\n",
       "      <td>Hip</td>\n",
       "      <td>CompShg</td>\n",
       "      <td>Wd Sdng</td>\n",
       "      <td>Wd Sdng</td>\n",
       "      <td>BrkFace</td>\n",
       "      <td>108.0</td>\n",
       "      <td>TA</td>\n",
       "      <td>TA</td>\n",
       "      <td>CBlock</td>\n",
       "      <td>TA</td>\n",
       "      <td>TA</td>\n",
       "      <td>No</td>\n",
       "      <td>ALQ</td>\n",
       "      <td>923.0</td>\n",
       "      <td>Unf</td>\n",
       "      <td>0.0</td>\n",
       "      <td>406.0</td>\n",
       "      <td>1329.0</td>\n",
       "      <td>GasA</td>\n",
       "      <td>TA</td>\n",
       "      <td>Y</td>\n",
       "      <td>SBrkr</td>\n",
       "      <td>1329</td>\n",
       "      <td>0</td>\n",
       "      <td>0</td>\n",
       "      <td>1329</td>\n",
       "      <td>0.0</td>\n",
       "      <td>0.0</td>\n",
       "      <td>1</td>\n",
       "      <td>1</td>\n",
       "      <td>3</td>\n",
       "      <td>1</td>\n",
       "      <td>Gd</td>\n",
       "      <td>6</td>\n",
       "      <td>Typ</td>\n",
       "      <td>0</td>\n",
       "      <td>NaN</td>\n",
       "      <td>Attchd</td>\n",
       "      <td>1958.0</td>\n",
       "      <td>Unf</td>\n",
       "      <td>1.0</td>\n",
       "      <td>312.0</td>\n",
       "      <td>TA</td>\n",
       "      <td>TA</td>\n",
       "      <td>Y</td>\n",
       "      <td>393</td>\n",
       "      <td>36</td>\n",
       "      <td>0</td>\n",
       "      <td>0</td>\n",
       "      <td>0</td>\n",
       "      <td>0</td>\n",
       "      <td>NaN</td>\n",
       "      <td>NaN</td>\n",
       "      <td>Gar2</td>\n",
       "      <td>12500</td>\n",
       "      <td>6</td>\n",
       "      <td>2010</td>\n",
       "      <td>WD</td>\n",
       "      <td>Normal</td>\n",
       "    </tr>\n",
       "    <tr>\n",
       "      <th>2</th>\n",
       "      <td>1463</td>\n",
       "      <td>60</td>\n",
       "      <td>RL</td>\n",
       "      <td>74.0</td>\n",
       "      <td>13830</td>\n",
       "      <td>Pave</td>\n",
       "      <td>NaN</td>\n",
       "      <td>IR1</td>\n",
       "      <td>Lvl</td>\n",
       "      <td>AllPub</td>\n",
       "      <td>Inside</td>\n",
       "      <td>Gtl</td>\n",
       "      <td>Gilbert</td>\n",
       "      <td>Norm</td>\n",
       "      <td>Norm</td>\n",
       "      <td>1Fam</td>\n",
       "      <td>2Story</td>\n",
       "      <td>5</td>\n",
       "      <td>5</td>\n",
       "      <td>1997</td>\n",
       "      <td>1998</td>\n",
       "      <td>Gable</td>\n",
       "      <td>CompShg</td>\n",
       "      <td>VinylSd</td>\n",
       "      <td>VinylSd</td>\n",
       "      <td>None</td>\n",
       "      <td>0.0</td>\n",
       "      <td>TA</td>\n",
       "      <td>TA</td>\n",
       "      <td>PConc</td>\n",
       "      <td>Gd</td>\n",
       "      <td>TA</td>\n",
       "      <td>No</td>\n",
       "      <td>GLQ</td>\n",
       "      <td>791.0</td>\n",
       "      <td>Unf</td>\n",
       "      <td>0.0</td>\n",
       "      <td>137.0</td>\n",
       "      <td>928.0</td>\n",
       "      <td>GasA</td>\n",
       "      <td>Gd</td>\n",
       "      <td>Y</td>\n",
       "      <td>SBrkr</td>\n",
       "      <td>928</td>\n",
       "      <td>701</td>\n",
       "      <td>0</td>\n",
       "      <td>1629</td>\n",
       "      <td>0.0</td>\n",
       "      <td>0.0</td>\n",
       "      <td>2</td>\n",
       "      <td>1</td>\n",
       "      <td>3</td>\n",
       "      <td>1</td>\n",
       "      <td>TA</td>\n",
       "      <td>6</td>\n",
       "      <td>Typ</td>\n",
       "      <td>1</td>\n",
       "      <td>TA</td>\n",
       "      <td>Attchd</td>\n",
       "      <td>1997.0</td>\n",
       "      <td>Fin</td>\n",
       "      <td>2.0</td>\n",
       "      <td>482.0</td>\n",
       "      <td>TA</td>\n",
       "      <td>TA</td>\n",
       "      <td>Y</td>\n",
       "      <td>212</td>\n",
       "      <td>34</td>\n",
       "      <td>0</td>\n",
       "      <td>0</td>\n",
       "      <td>0</td>\n",
       "      <td>0</td>\n",
       "      <td>NaN</td>\n",
       "      <td>MnPrv</td>\n",
       "      <td>NaN</td>\n",
       "      <td>0</td>\n",
       "      <td>3</td>\n",
       "      <td>2010</td>\n",
       "      <td>WD</td>\n",
       "      <td>Normal</td>\n",
       "    </tr>\n",
       "    <tr>\n",
       "      <th>3</th>\n",
       "      <td>1464</td>\n",
       "      <td>60</td>\n",
       "      <td>RL</td>\n",
       "      <td>78.0</td>\n",
       "      <td>9978</td>\n",
       "      <td>Pave</td>\n",
       "      <td>NaN</td>\n",
       "      <td>IR1</td>\n",
       "      <td>Lvl</td>\n",
       "      <td>AllPub</td>\n",
       "      <td>Inside</td>\n",
       "      <td>Gtl</td>\n",
       "      <td>Gilbert</td>\n",
       "      <td>Norm</td>\n",
       "      <td>Norm</td>\n",
       "      <td>1Fam</td>\n",
       "      <td>2Story</td>\n",
       "      <td>6</td>\n",
       "      <td>6</td>\n",
       "      <td>1998</td>\n",
       "      <td>1998</td>\n",
       "      <td>Gable</td>\n",
       "      <td>CompShg</td>\n",
       "      <td>VinylSd</td>\n",
       "      <td>VinylSd</td>\n",
       "      <td>BrkFace</td>\n",
       "      <td>20.0</td>\n",
       "      <td>TA</td>\n",
       "      <td>TA</td>\n",
       "      <td>PConc</td>\n",
       "      <td>TA</td>\n",
       "      <td>TA</td>\n",
       "      <td>No</td>\n",
       "      <td>GLQ</td>\n",
       "      <td>602.0</td>\n",
       "      <td>Unf</td>\n",
       "      <td>0.0</td>\n",
       "      <td>324.0</td>\n",
       "      <td>926.0</td>\n",
       "      <td>GasA</td>\n",
       "      <td>Ex</td>\n",
       "      <td>Y</td>\n",
       "      <td>SBrkr</td>\n",
       "      <td>926</td>\n",
       "      <td>678</td>\n",
       "      <td>0</td>\n",
       "      <td>1604</td>\n",
       "      <td>0.0</td>\n",
       "      <td>0.0</td>\n",
       "      <td>2</td>\n",
       "      <td>1</td>\n",
       "      <td>3</td>\n",
       "      <td>1</td>\n",
       "      <td>Gd</td>\n",
       "      <td>7</td>\n",
       "      <td>Typ</td>\n",
       "      <td>1</td>\n",
       "      <td>Gd</td>\n",
       "      <td>Attchd</td>\n",
       "      <td>1998.0</td>\n",
       "      <td>Fin</td>\n",
       "      <td>2.0</td>\n",
       "      <td>470.0</td>\n",
       "      <td>TA</td>\n",
       "      <td>TA</td>\n",
       "      <td>Y</td>\n",
       "      <td>360</td>\n",
       "      <td>36</td>\n",
       "      <td>0</td>\n",
       "      <td>0</td>\n",
       "      <td>0</td>\n",
       "      <td>0</td>\n",
       "      <td>NaN</td>\n",
       "      <td>NaN</td>\n",
       "      <td>NaN</td>\n",
       "      <td>0</td>\n",
       "      <td>6</td>\n",
       "      <td>2010</td>\n",
       "      <td>WD</td>\n",
       "      <td>Normal</td>\n",
       "    </tr>\n",
       "    <tr>\n",
       "      <th>4</th>\n",
       "      <td>1465</td>\n",
       "      <td>120</td>\n",
       "      <td>RL</td>\n",
       "      <td>43.0</td>\n",
       "      <td>5005</td>\n",
       "      <td>Pave</td>\n",
       "      <td>NaN</td>\n",
       "      <td>IR1</td>\n",
       "      <td>HLS</td>\n",
       "      <td>AllPub</td>\n",
       "      <td>Inside</td>\n",
       "      <td>Gtl</td>\n",
       "      <td>StoneBr</td>\n",
       "      <td>Norm</td>\n",
       "      <td>Norm</td>\n",
       "      <td>TwnhsE</td>\n",
       "      <td>1Story</td>\n",
       "      <td>8</td>\n",
       "      <td>5</td>\n",
       "      <td>1992</td>\n",
       "      <td>1992</td>\n",
       "      <td>Gable</td>\n",
       "      <td>CompShg</td>\n",
       "      <td>HdBoard</td>\n",
       "      <td>HdBoard</td>\n",
       "      <td>None</td>\n",
       "      <td>0.0</td>\n",
       "      <td>Gd</td>\n",
       "      <td>TA</td>\n",
       "      <td>PConc</td>\n",
       "      <td>Gd</td>\n",
       "      <td>TA</td>\n",
       "      <td>No</td>\n",
       "      <td>ALQ</td>\n",
       "      <td>263.0</td>\n",
       "      <td>Unf</td>\n",
       "      <td>0.0</td>\n",
       "      <td>1017.0</td>\n",
       "      <td>1280.0</td>\n",
       "      <td>GasA</td>\n",
       "      <td>Ex</td>\n",
       "      <td>Y</td>\n",
       "      <td>SBrkr</td>\n",
       "      <td>1280</td>\n",
       "      <td>0</td>\n",
       "      <td>0</td>\n",
       "      <td>1280</td>\n",
       "      <td>0.0</td>\n",
       "      <td>0.0</td>\n",
       "      <td>2</td>\n",
       "      <td>0</td>\n",
       "      <td>2</td>\n",
       "      <td>1</td>\n",
       "      <td>Gd</td>\n",
       "      <td>5</td>\n",
       "      <td>Typ</td>\n",
       "      <td>0</td>\n",
       "      <td>NaN</td>\n",
       "      <td>Attchd</td>\n",
       "      <td>1992.0</td>\n",
       "      <td>RFn</td>\n",
       "      <td>2.0</td>\n",
       "      <td>506.0</td>\n",
       "      <td>TA</td>\n",
       "      <td>TA</td>\n",
       "      <td>Y</td>\n",
       "      <td>0</td>\n",
       "      <td>82</td>\n",
       "      <td>0</td>\n",
       "      <td>0</td>\n",
       "      <td>144</td>\n",
       "      <td>0</td>\n",
       "      <td>NaN</td>\n",
       "      <td>NaN</td>\n",
       "      <td>NaN</td>\n",
       "      <td>0</td>\n",
       "      <td>1</td>\n",
       "      <td>2010</td>\n",
       "      <td>WD</td>\n",
       "      <td>Normal</td>\n",
       "    </tr>\n",
       "    <tr>\n",
       "      <th>5</th>\n",
       "      <td>1466</td>\n",
       "      <td>60</td>\n",
       "      <td>RL</td>\n",
       "      <td>75.0</td>\n",
       "      <td>10000</td>\n",
       "      <td>Pave</td>\n",
       "      <td>NaN</td>\n",
       "      <td>IR1</td>\n",
       "      <td>Lvl</td>\n",
       "      <td>AllPub</td>\n",
       "      <td>Corner</td>\n",
       "      <td>Gtl</td>\n",
       "      <td>Gilbert</td>\n",
       "      <td>Norm</td>\n",
       "      <td>Norm</td>\n",
       "      <td>1Fam</td>\n",
       "      <td>2Story</td>\n",
       "      <td>6</td>\n",
       "      <td>5</td>\n",
       "      <td>1993</td>\n",
       "      <td>1994</td>\n",
       "      <td>Gable</td>\n",
       "      <td>CompShg</td>\n",
       "      <td>HdBoard</td>\n",
       "      <td>HdBoard</td>\n",
       "      <td>None</td>\n",
       "      <td>0.0</td>\n",
       "      <td>TA</td>\n",
       "      <td>TA</td>\n",
       "      <td>PConc</td>\n",
       "      <td>Gd</td>\n",
       "      <td>TA</td>\n",
       "      <td>No</td>\n",
       "      <td>Unf</td>\n",
       "      <td>0.0</td>\n",
       "      <td>Unf</td>\n",
       "      <td>0.0</td>\n",
       "      <td>763.0</td>\n",
       "      <td>763.0</td>\n",
       "      <td>GasA</td>\n",
       "      <td>Gd</td>\n",
       "      <td>Y</td>\n",
       "      <td>SBrkr</td>\n",
       "      <td>763</td>\n",
       "      <td>892</td>\n",
       "      <td>0</td>\n",
       "      <td>1655</td>\n",
       "      <td>0.0</td>\n",
       "      <td>0.0</td>\n",
       "      <td>2</td>\n",
       "      <td>1</td>\n",
       "      <td>3</td>\n",
       "      <td>1</td>\n",
       "      <td>TA</td>\n",
       "      <td>7</td>\n",
       "      <td>Typ</td>\n",
       "      <td>1</td>\n",
       "      <td>TA</td>\n",
       "      <td>Attchd</td>\n",
       "      <td>1993.0</td>\n",
       "      <td>Fin</td>\n",
       "      <td>2.0</td>\n",
       "      <td>440.0</td>\n",
       "      <td>TA</td>\n",
       "      <td>TA</td>\n",
       "      <td>Y</td>\n",
       "      <td>157</td>\n",
       "      <td>84</td>\n",
       "      <td>0</td>\n",
       "      <td>0</td>\n",
       "      <td>0</td>\n",
       "      <td>0</td>\n",
       "      <td>NaN</td>\n",
       "      <td>NaN</td>\n",
       "      <td>NaN</td>\n",
       "      <td>0</td>\n",
       "      <td>4</td>\n",
       "      <td>2010</td>\n",
       "      <td>WD</td>\n",
       "      <td>Normal</td>\n",
       "    </tr>\n",
       "    <tr>\n",
       "      <th>6</th>\n",
       "      <td>1467</td>\n",
       "      <td>20</td>\n",
       "      <td>RL</td>\n",
       "      <td>NaN</td>\n",
       "      <td>7980</td>\n",
       "      <td>Pave</td>\n",
       "      <td>NaN</td>\n",
       "      <td>IR1</td>\n",
       "      <td>Lvl</td>\n",
       "      <td>AllPub</td>\n",
       "      <td>Inside</td>\n",
       "      <td>Gtl</td>\n",
       "      <td>Gilbert</td>\n",
       "      <td>Norm</td>\n",
       "      <td>Norm</td>\n",
       "      <td>1Fam</td>\n",
       "      <td>1Story</td>\n",
       "      <td>6</td>\n",
       "      <td>7</td>\n",
       "      <td>1992</td>\n",
       "      <td>2007</td>\n",
       "      <td>Gable</td>\n",
       "      <td>CompShg</td>\n",
       "      <td>HdBoard</td>\n",
       "      <td>HdBoard</td>\n",
       "      <td>None</td>\n",
       "      <td>0.0</td>\n",
       "      <td>TA</td>\n",
       "      <td>Gd</td>\n",
       "      <td>PConc</td>\n",
       "      <td>Gd</td>\n",
       "      <td>TA</td>\n",
       "      <td>No</td>\n",
       "      <td>ALQ</td>\n",
       "      <td>935.0</td>\n",
       "      <td>Unf</td>\n",
       "      <td>0.0</td>\n",
       "      <td>233.0</td>\n",
       "      <td>1168.0</td>\n",
       "      <td>GasA</td>\n",
       "      <td>Ex</td>\n",
       "      <td>Y</td>\n",
       "      <td>SBrkr</td>\n",
       "      <td>1187</td>\n",
       "      <td>0</td>\n",
       "      <td>0</td>\n",
       "      <td>1187</td>\n",
       "      <td>1.0</td>\n",
       "      <td>0.0</td>\n",
       "      <td>2</td>\n",
       "      <td>0</td>\n",
       "      <td>3</td>\n",
       "      <td>1</td>\n",
       "      <td>TA</td>\n",
       "      <td>6</td>\n",
       "      <td>Typ</td>\n",
       "      <td>0</td>\n",
       "      <td>NaN</td>\n",
       "      <td>Attchd</td>\n",
       "      <td>1992.0</td>\n",
       "      <td>Fin</td>\n",
       "      <td>2.0</td>\n",
       "      <td>420.0</td>\n",
       "      <td>TA</td>\n",
       "      <td>TA</td>\n",
       "      <td>Y</td>\n",
       "      <td>483</td>\n",
       "      <td>21</td>\n",
       "      <td>0</td>\n",
       "      <td>0</td>\n",
       "      <td>0</td>\n",
       "      <td>0</td>\n",
       "      <td>NaN</td>\n",
       "      <td>GdPrv</td>\n",
       "      <td>Shed</td>\n",
       "      <td>500</td>\n",
       "      <td>3</td>\n",
       "      <td>2010</td>\n",
       "      <td>WD</td>\n",
       "      <td>Normal</td>\n",
       "    </tr>\n",
       "    <tr>\n",
       "      <th>7</th>\n",
       "      <td>1468</td>\n",
       "      <td>60</td>\n",
       "      <td>RL</td>\n",
       "      <td>63.0</td>\n",
       "      <td>8402</td>\n",
       "      <td>Pave</td>\n",
       "      <td>NaN</td>\n",
       "      <td>IR1</td>\n",
       "      <td>Lvl</td>\n",
       "      <td>AllPub</td>\n",
       "      <td>Inside</td>\n",
       "      <td>Gtl</td>\n",
       "      <td>Gilbert</td>\n",
       "      <td>Norm</td>\n",
       "      <td>Norm</td>\n",
       "      <td>1Fam</td>\n",
       "      <td>2Story</td>\n",
       "      <td>6</td>\n",
       "      <td>5</td>\n",
       "      <td>1998</td>\n",
       "      <td>1998</td>\n",
       "      <td>Gable</td>\n",
       "      <td>CompShg</td>\n",
       "      <td>VinylSd</td>\n",
       "      <td>VinylSd</td>\n",
       "      <td>None</td>\n",
       "      <td>0.0</td>\n",
       "      <td>TA</td>\n",
       "      <td>TA</td>\n",
       "      <td>PConc</td>\n",
       "      <td>Gd</td>\n",
       "      <td>TA</td>\n",
       "      <td>No</td>\n",
       "      <td>Unf</td>\n",
       "      <td>0.0</td>\n",
       "      <td>Unf</td>\n",
       "      <td>0.0</td>\n",
       "      <td>789.0</td>\n",
       "      <td>789.0</td>\n",
       "      <td>GasA</td>\n",
       "      <td>Gd</td>\n",
       "      <td>Y</td>\n",
       "      <td>SBrkr</td>\n",
       "      <td>789</td>\n",
       "      <td>676</td>\n",
       "      <td>0</td>\n",
       "      <td>1465</td>\n",
       "      <td>0.0</td>\n",
       "      <td>0.0</td>\n",
       "      <td>2</td>\n",
       "      <td>1</td>\n",
       "      <td>3</td>\n",
       "      <td>1</td>\n",
       "      <td>TA</td>\n",
       "      <td>7</td>\n",
       "      <td>Typ</td>\n",
       "      <td>1</td>\n",
       "      <td>Gd</td>\n",
       "      <td>Attchd</td>\n",
       "      <td>1998.0</td>\n",
       "      <td>Fin</td>\n",
       "      <td>2.0</td>\n",
       "      <td>393.0</td>\n",
       "      <td>TA</td>\n",
       "      <td>TA</td>\n",
       "      <td>Y</td>\n",
       "      <td>0</td>\n",
       "      <td>75</td>\n",
       "      <td>0</td>\n",
       "      <td>0</td>\n",
       "      <td>0</td>\n",
       "      <td>0</td>\n",
       "      <td>NaN</td>\n",
       "      <td>NaN</td>\n",
       "      <td>NaN</td>\n",
       "      <td>0</td>\n",
       "      <td>5</td>\n",
       "      <td>2010</td>\n",
       "      <td>WD</td>\n",
       "      <td>Normal</td>\n",
       "    </tr>\n",
       "    <tr>\n",
       "      <th>8</th>\n",
       "      <td>1469</td>\n",
       "      <td>20</td>\n",
       "      <td>RL</td>\n",
       "      <td>85.0</td>\n",
       "      <td>10176</td>\n",
       "      <td>Pave</td>\n",
       "      <td>NaN</td>\n",
       "      <td>Reg</td>\n",
       "      <td>Lvl</td>\n",
       "      <td>AllPub</td>\n",
       "      <td>Inside</td>\n",
       "      <td>Gtl</td>\n",
       "      <td>Gilbert</td>\n",
       "      <td>Norm</td>\n",
       "      <td>Norm</td>\n",
       "      <td>1Fam</td>\n",
       "      <td>1Story</td>\n",
       "      <td>7</td>\n",
       "      <td>5</td>\n",
       "      <td>1990</td>\n",
       "      <td>1990</td>\n",
       "      <td>Gable</td>\n",
       "      <td>CompShg</td>\n",
       "      <td>HdBoard</td>\n",
       "      <td>HdBoard</td>\n",
       "      <td>None</td>\n",
       "      <td>0.0</td>\n",
       "      <td>TA</td>\n",
       "      <td>TA</td>\n",
       "      <td>PConc</td>\n",
       "      <td>Gd</td>\n",
       "      <td>TA</td>\n",
       "      <td>Gd</td>\n",
       "      <td>GLQ</td>\n",
       "      <td>637.0</td>\n",
       "      <td>Unf</td>\n",
       "      <td>0.0</td>\n",
       "      <td>663.0</td>\n",
       "      <td>1300.0</td>\n",
       "      <td>GasA</td>\n",
       "      <td>Gd</td>\n",
       "      <td>Y</td>\n",
       "      <td>SBrkr</td>\n",
       "      <td>1341</td>\n",
       "      <td>0</td>\n",
       "      <td>0</td>\n",
       "      <td>1341</td>\n",
       "      <td>1.0</td>\n",
       "      <td>0.0</td>\n",
       "      <td>1</td>\n",
       "      <td>1</td>\n",
       "      <td>2</td>\n",
       "      <td>1</td>\n",
       "      <td>Gd</td>\n",
       "      <td>5</td>\n",
       "      <td>Typ</td>\n",
       "      <td>1</td>\n",
       "      <td>Po</td>\n",
       "      <td>Attchd</td>\n",
       "      <td>1990.0</td>\n",
       "      <td>Unf</td>\n",
       "      <td>2.0</td>\n",
       "      <td>506.0</td>\n",
       "      <td>TA</td>\n",
       "      <td>TA</td>\n",
       "      <td>Y</td>\n",
       "      <td>192</td>\n",
       "      <td>0</td>\n",
       "      <td>0</td>\n",
       "      <td>0</td>\n",
       "      <td>0</td>\n",
       "      <td>0</td>\n",
       "      <td>NaN</td>\n",
       "      <td>NaN</td>\n",
       "      <td>NaN</td>\n",
       "      <td>0</td>\n",
       "      <td>2</td>\n",
       "      <td>2010</td>\n",
       "      <td>WD</td>\n",
       "      <td>Normal</td>\n",
       "    </tr>\n",
       "    <tr>\n",
       "      <th>9</th>\n",
       "      <td>1470</td>\n",
       "      <td>20</td>\n",
       "      <td>RL</td>\n",
       "      <td>70.0</td>\n",
       "      <td>8400</td>\n",
       "      <td>Pave</td>\n",
       "      <td>NaN</td>\n",
       "      <td>Reg</td>\n",
       "      <td>Lvl</td>\n",
       "      <td>AllPub</td>\n",
       "      <td>Corner</td>\n",
       "      <td>Gtl</td>\n",
       "      <td>NAmes</td>\n",
       "      <td>Norm</td>\n",
       "      <td>Norm</td>\n",
       "      <td>1Fam</td>\n",
       "      <td>1Story</td>\n",
       "      <td>4</td>\n",
       "      <td>5</td>\n",
       "      <td>1970</td>\n",
       "      <td>1970</td>\n",
       "      <td>Gable</td>\n",
       "      <td>CompShg</td>\n",
       "      <td>Plywood</td>\n",
       "      <td>Plywood</td>\n",
       "      <td>None</td>\n",
       "      <td>0.0</td>\n",
       "      <td>TA</td>\n",
       "      <td>TA</td>\n",
       "      <td>CBlock</td>\n",
       "      <td>TA</td>\n",
       "      <td>TA</td>\n",
       "      <td>No</td>\n",
       "      <td>ALQ</td>\n",
       "      <td>804.0</td>\n",
       "      <td>Rec</td>\n",
       "      <td>78.0</td>\n",
       "      <td>0.0</td>\n",
       "      <td>882.0</td>\n",
       "      <td>GasA</td>\n",
       "      <td>TA</td>\n",
       "      <td>Y</td>\n",
       "      <td>SBrkr</td>\n",
       "      <td>882</td>\n",
       "      <td>0</td>\n",
       "      <td>0</td>\n",
       "      <td>882</td>\n",
       "      <td>1.0</td>\n",
       "      <td>0.0</td>\n",
       "      <td>1</td>\n",
       "      <td>0</td>\n",
       "      <td>2</td>\n",
       "      <td>1</td>\n",
       "      <td>TA</td>\n",
       "      <td>4</td>\n",
       "      <td>Typ</td>\n",
       "      <td>0</td>\n",
       "      <td>NaN</td>\n",
       "      <td>Attchd</td>\n",
       "      <td>1970.0</td>\n",
       "      <td>Fin</td>\n",
       "      <td>2.0</td>\n",
       "      <td>525.0</td>\n",
       "      <td>TA</td>\n",
       "      <td>TA</td>\n",
       "      <td>Y</td>\n",
       "      <td>240</td>\n",
       "      <td>0</td>\n",
       "      <td>0</td>\n",
       "      <td>0</td>\n",
       "      <td>0</td>\n",
       "      <td>0</td>\n",
       "      <td>NaN</td>\n",
       "      <td>MnPrv</td>\n",
       "      <td>NaN</td>\n",
       "      <td>0</td>\n",
       "      <td>4</td>\n",
       "      <td>2010</td>\n",
       "      <td>WD</td>\n",
       "      <td>Normal</td>\n",
       "    </tr>\n",
       "  </tbody>\n",
       "</table>\n",
       "</div>"
      ],
      "text/plain": [
       "     Id  MSSubClass MSZoning  LotFrontage  LotArea Street Alley LotShape  \\\n",
       "0  1461          20       RH         80.0    11622   Pave   NaN      Reg   \n",
       "1  1462          20       RL         81.0    14267   Pave   NaN      IR1   \n",
       "2  1463          60       RL         74.0    13830   Pave   NaN      IR1   \n",
       "3  1464          60       RL         78.0     9978   Pave   NaN      IR1   \n",
       "4  1465         120       RL         43.0     5005   Pave   NaN      IR1   \n",
       "5  1466          60       RL         75.0    10000   Pave   NaN      IR1   \n",
       "6  1467          20       RL          NaN     7980   Pave   NaN      IR1   \n",
       "7  1468          60       RL         63.0     8402   Pave   NaN      IR1   \n",
       "8  1469          20       RL         85.0    10176   Pave   NaN      Reg   \n",
       "9  1470          20       RL         70.0     8400   Pave   NaN      Reg   \n",
       "\n",
       "  LandContour Utilities LotConfig LandSlope Neighborhood Condition1  \\\n",
       "0         Lvl    AllPub    Inside       Gtl        NAmes      Feedr   \n",
       "1         Lvl    AllPub    Corner       Gtl        NAmes       Norm   \n",
       "2         Lvl    AllPub    Inside       Gtl      Gilbert       Norm   \n",
       "3         Lvl    AllPub    Inside       Gtl      Gilbert       Norm   \n",
       "4         HLS    AllPub    Inside       Gtl      StoneBr       Norm   \n",
       "5         Lvl    AllPub    Corner       Gtl      Gilbert       Norm   \n",
       "6         Lvl    AllPub    Inside       Gtl      Gilbert       Norm   \n",
       "7         Lvl    AllPub    Inside       Gtl      Gilbert       Norm   \n",
       "8         Lvl    AllPub    Inside       Gtl      Gilbert       Norm   \n",
       "9         Lvl    AllPub    Corner       Gtl        NAmes       Norm   \n",
       "\n",
       "  Condition2 BldgType HouseStyle  OverallQual  OverallCond  YearBuilt  \\\n",
       "0       Norm     1Fam     1Story            5            6       1961   \n",
       "1       Norm     1Fam     1Story            6            6       1958   \n",
       "2       Norm     1Fam     2Story            5            5       1997   \n",
       "3       Norm     1Fam     2Story            6            6       1998   \n",
       "4       Norm   TwnhsE     1Story            8            5       1992   \n",
       "5       Norm     1Fam     2Story            6            5       1993   \n",
       "6       Norm     1Fam     1Story            6            7       1992   \n",
       "7       Norm     1Fam     2Story            6            5       1998   \n",
       "8       Norm     1Fam     1Story            7            5       1990   \n",
       "9       Norm     1Fam     1Story            4            5       1970   \n",
       "\n",
       "   YearRemodAdd RoofStyle RoofMatl Exterior1st Exterior2nd MasVnrType  \\\n",
       "0          1961     Gable  CompShg     VinylSd     VinylSd       None   \n",
       "1          1958       Hip  CompShg     Wd Sdng     Wd Sdng    BrkFace   \n",
       "2          1998     Gable  CompShg     VinylSd     VinylSd       None   \n",
       "3          1998     Gable  CompShg     VinylSd     VinylSd    BrkFace   \n",
       "4          1992     Gable  CompShg     HdBoard     HdBoard       None   \n",
       "5          1994     Gable  CompShg     HdBoard     HdBoard       None   \n",
       "6          2007     Gable  CompShg     HdBoard     HdBoard       None   \n",
       "7          1998     Gable  CompShg     VinylSd     VinylSd       None   \n",
       "8          1990     Gable  CompShg     HdBoard     HdBoard       None   \n",
       "9          1970     Gable  CompShg     Plywood     Plywood       None   \n",
       "\n",
       "   MasVnrArea ExterQual ExterCond Foundation BsmtQual BsmtCond BsmtExposure  \\\n",
       "0         0.0        TA        TA     CBlock       TA       TA           No   \n",
       "1       108.0        TA        TA     CBlock       TA       TA           No   \n",
       "2         0.0        TA        TA      PConc       Gd       TA           No   \n",
       "3        20.0        TA        TA      PConc       TA       TA           No   \n",
       "4         0.0        Gd        TA      PConc       Gd       TA           No   \n",
       "5         0.0        TA        TA      PConc       Gd       TA           No   \n",
       "6         0.0        TA        Gd      PConc       Gd       TA           No   \n",
       "7         0.0        TA        TA      PConc       Gd       TA           No   \n",
       "8         0.0        TA        TA      PConc       Gd       TA           Gd   \n",
       "9         0.0        TA        TA     CBlock       TA       TA           No   \n",
       "\n",
       "  BsmtFinType1  BsmtFinSF1 BsmtFinType2  BsmtFinSF2  BsmtUnfSF  TotalBsmtSF  \\\n",
       "0          Rec       468.0          LwQ       144.0      270.0        882.0   \n",
       "1          ALQ       923.0          Unf         0.0      406.0       1329.0   \n",
       "2          GLQ       791.0          Unf         0.0      137.0        928.0   \n",
       "3          GLQ       602.0          Unf         0.0      324.0        926.0   \n",
       "4          ALQ       263.0          Unf         0.0     1017.0       1280.0   \n",
       "5          Unf         0.0          Unf         0.0      763.0        763.0   \n",
       "6          ALQ       935.0          Unf         0.0      233.0       1168.0   \n",
       "7          Unf         0.0          Unf         0.0      789.0        789.0   \n",
       "8          GLQ       637.0          Unf         0.0      663.0       1300.0   \n",
       "9          ALQ       804.0          Rec        78.0        0.0        882.0   \n",
       "\n",
       "  Heating HeatingQC CentralAir Electrical  1stFlrSF  2ndFlrSF  LowQualFinSF  \\\n",
       "0    GasA        TA          Y      SBrkr       896         0             0   \n",
       "1    GasA        TA          Y      SBrkr      1329         0             0   \n",
       "2    GasA        Gd          Y      SBrkr       928       701             0   \n",
       "3    GasA        Ex          Y      SBrkr       926       678             0   \n",
       "4    GasA        Ex          Y      SBrkr      1280         0             0   \n",
       "5    GasA        Gd          Y      SBrkr       763       892             0   \n",
       "6    GasA        Ex          Y      SBrkr      1187         0             0   \n",
       "7    GasA        Gd          Y      SBrkr       789       676             0   \n",
       "8    GasA        Gd          Y      SBrkr      1341         0             0   \n",
       "9    GasA        TA          Y      SBrkr       882         0             0   \n",
       "\n",
       "   GrLivArea  BsmtFullBath  BsmtHalfBath  FullBath  HalfBath  BedroomAbvGr  \\\n",
       "0        896           0.0           0.0         1         0             2   \n",
       "1       1329           0.0           0.0         1         1             3   \n",
       "2       1629           0.0           0.0         2         1             3   \n",
       "3       1604           0.0           0.0         2         1             3   \n",
       "4       1280           0.0           0.0         2         0             2   \n",
       "5       1655           0.0           0.0         2         1             3   \n",
       "6       1187           1.0           0.0         2         0             3   \n",
       "7       1465           0.0           0.0         2         1             3   \n",
       "8       1341           1.0           0.0         1         1             2   \n",
       "9        882           1.0           0.0         1         0             2   \n",
       "\n",
       "   KitchenAbvGr KitchenQual  TotRmsAbvGrd Functional  Fireplaces FireplaceQu  \\\n",
       "0             1          TA             5        Typ           0         NaN   \n",
       "1             1          Gd             6        Typ           0         NaN   \n",
       "2             1          TA             6        Typ           1          TA   \n",
       "3             1          Gd             7        Typ           1          Gd   \n",
       "4             1          Gd             5        Typ           0         NaN   \n",
       "5             1          TA             7        Typ           1          TA   \n",
       "6             1          TA             6        Typ           0         NaN   \n",
       "7             1          TA             7        Typ           1          Gd   \n",
       "8             1          Gd             5        Typ           1          Po   \n",
       "9             1          TA             4        Typ           0         NaN   \n",
       "\n",
       "  GarageType  GarageYrBlt GarageFinish  GarageCars  GarageArea GarageQual  \\\n",
       "0     Attchd       1961.0          Unf         1.0       730.0         TA   \n",
       "1     Attchd       1958.0          Unf         1.0       312.0         TA   \n",
       "2     Attchd       1997.0          Fin         2.0       482.0         TA   \n",
       "3     Attchd       1998.0          Fin         2.0       470.0         TA   \n",
       "4     Attchd       1992.0          RFn         2.0       506.0         TA   \n",
       "5     Attchd       1993.0          Fin         2.0       440.0         TA   \n",
       "6     Attchd       1992.0          Fin         2.0       420.0         TA   \n",
       "7     Attchd       1998.0          Fin         2.0       393.0         TA   \n",
       "8     Attchd       1990.0          Unf         2.0       506.0         TA   \n",
       "9     Attchd       1970.0          Fin         2.0       525.0         TA   \n",
       "\n",
       "  GarageCond PavedDrive  WoodDeckSF  OpenPorchSF  EnclosedPorch  3SsnPorch  \\\n",
       "0         TA          Y         140            0              0          0   \n",
       "1         TA          Y         393           36              0          0   \n",
       "2         TA          Y         212           34              0          0   \n",
       "3         TA          Y         360           36              0          0   \n",
       "4         TA          Y           0           82              0          0   \n",
       "5         TA          Y         157           84              0          0   \n",
       "6         TA          Y         483           21              0          0   \n",
       "7         TA          Y           0           75              0          0   \n",
       "8         TA          Y         192            0              0          0   \n",
       "9         TA          Y         240            0              0          0   \n",
       "\n",
       "   ScreenPorch  PoolArea PoolQC  Fence MiscFeature  MiscVal  MoSold  YrSold  \\\n",
       "0          120         0    NaN  MnPrv         NaN        0       6    2010   \n",
       "1            0         0    NaN    NaN        Gar2    12500       6    2010   \n",
       "2            0         0    NaN  MnPrv         NaN        0       3    2010   \n",
       "3            0         0    NaN    NaN         NaN        0       6    2010   \n",
       "4          144         0    NaN    NaN         NaN        0       1    2010   \n",
       "5            0         0    NaN    NaN         NaN        0       4    2010   \n",
       "6            0         0    NaN  GdPrv        Shed      500       3    2010   \n",
       "7            0         0    NaN    NaN         NaN        0       5    2010   \n",
       "8            0         0    NaN    NaN         NaN        0       2    2010   \n",
       "9            0         0    NaN  MnPrv         NaN        0       4    2010   \n",
       "\n",
       "  SaleType SaleCondition  \n",
       "0       WD        Normal  \n",
       "1       WD        Normal  \n",
       "2       WD        Normal  \n",
       "3       WD        Normal  \n",
       "4       WD        Normal  \n",
       "5       WD        Normal  \n",
       "6       WD        Normal  \n",
       "7       WD        Normal  \n",
       "8       WD        Normal  \n",
       "9       WD        Normal  "
      ]
     },
     "execution_count": 103,
     "metadata": {},
     "output_type": "execute_result"
    }
   ],
   "source": [
    "test_data.head(10)"
   ]
  },
  {
   "cell_type": "markdown",
   "id": "d482f391",
   "metadata": {},
   "source": [
    "# Missing Data Treatment"
   ]
  },
  {
   "cell_type": "code",
   "execution_count": 104,
   "id": "74573a9f",
   "metadata": {},
   "outputs": [
    {
     "data": {
      "text/plain": [
       "Id                  0\n",
       "MSSubClass          0\n",
       "MSZoning            4\n",
       "LotFrontage       227\n",
       "LotArea             0\n",
       "Street              0\n",
       "Alley            1352\n",
       "LotShape            0\n",
       "LandContour         0\n",
       "Utilities           2\n",
       "LotConfig           0\n",
       "LandSlope           0\n",
       "Neighborhood        0\n",
       "Condition1          0\n",
       "Condition2          0\n",
       "BldgType            0\n",
       "HouseStyle          0\n",
       "OverallQual         0\n",
       "OverallCond         0\n",
       "YearBuilt           0\n",
       "YearRemodAdd        0\n",
       "RoofStyle           0\n",
       "RoofMatl            0\n",
       "Exterior1st         1\n",
       "Exterior2nd         1\n",
       "MasVnrType         16\n",
       "MasVnrArea         15\n",
       "ExterQual           0\n",
       "ExterCond           0\n",
       "Foundation          0\n",
       "BsmtQual           44\n",
       "BsmtCond           45\n",
       "BsmtExposure       44\n",
       "BsmtFinType1       42\n",
       "BsmtFinSF1          1\n",
       "BsmtFinType2       42\n",
       "BsmtFinSF2          1\n",
       "BsmtUnfSF           1\n",
       "TotalBsmtSF         1\n",
       "Heating             0\n",
       "HeatingQC           0\n",
       "CentralAir          0\n",
       "Electrical          0\n",
       "1stFlrSF            0\n",
       "2ndFlrSF            0\n",
       "LowQualFinSF        0\n",
       "GrLivArea           0\n",
       "BsmtFullBath        2\n",
       "BsmtHalfBath        2\n",
       "FullBath            0\n",
       "HalfBath            0\n",
       "BedroomAbvGr        0\n",
       "KitchenAbvGr        0\n",
       "KitchenQual         1\n",
       "TotRmsAbvGrd        0\n",
       "Functional          2\n",
       "Fireplaces          0\n",
       "FireplaceQu       730\n",
       "GarageType         76\n",
       "GarageYrBlt        78\n",
       "GarageFinish       78\n",
       "GarageCars          1\n",
       "GarageArea          1\n",
       "GarageQual         78\n",
       "GarageCond         78\n",
       "PavedDrive          0\n",
       "WoodDeckSF          0\n",
       "OpenPorchSF         0\n",
       "EnclosedPorch       0\n",
       "3SsnPorch           0\n",
       "ScreenPorch         0\n",
       "PoolArea            0\n",
       "PoolQC           1456\n",
       "Fence            1169\n",
       "MiscFeature      1408\n",
       "MiscVal             0\n",
       "MoSold              0\n",
       "YrSold              0\n",
       "SaleType            1\n",
       "SaleCondition       0\n",
       "dtype: int64"
      ]
     },
     "execution_count": 104,
     "metadata": {},
     "output_type": "execute_result"
    }
   ],
   "source": [
    "test_data.isna().sum()"
   ]
  },
  {
   "cell_type": "code",
   "execution_count": 105,
   "id": "75d6479f",
   "metadata": {},
   "outputs": [],
   "source": [
    "temp = test_data['MSZoning'].mode()[0]\n",
    "test_data['MSZoning'] = test_data['MSZoning'].fillna(temp)"
   ]
  },
  {
   "cell_type": "code",
   "execution_count": 106,
   "id": "5ac70a67",
   "metadata": {},
   "outputs": [],
   "source": [
    "temp = round(test_data['LotFrontage'].mean(), 2)\n",
    "test_data['LotFrontage'] = test_data['LotFrontage'].fillna(temp)"
   ]
  },
  {
   "cell_type": "code",
   "execution_count": 107,
   "id": "12387bea",
   "metadata": {},
   "outputs": [],
   "source": [
    "test_data['Alley'] = test_data['Alley'].fillna('No alley access')"
   ]
  },
  {
   "cell_type": "code",
   "execution_count": 108,
   "id": "043b03d2",
   "metadata": {},
   "outputs": [],
   "source": [
    "temp = test_data['Utilities'].mode()[0]\n",
    "test_data['Utilities'] = test_data['Utilities'].fillna(temp)"
   ]
  },
  {
   "cell_type": "code",
   "execution_count": 109,
   "id": "865e3fe1",
   "metadata": {},
   "outputs": [],
   "source": [
    "temp = test_data['Exterior1st'].mode()[0]\n",
    "test_data['Exterior1st'] = test_data['Exterior1st'].fillna(temp)"
   ]
  },
  {
   "cell_type": "code",
   "execution_count": 110,
   "id": "bdd35989",
   "metadata": {},
   "outputs": [],
   "source": [
    "temp = test_data['Exterior2nd'].mode()[0]\n",
    "test_data['Exterior2nd'] = test_data['Exterior2nd'].fillna(temp)"
   ]
  },
  {
   "cell_type": "code",
   "execution_count": 111,
   "id": "a60a0363",
   "metadata": {},
   "outputs": [],
   "source": [
    "temp = test_data['MasVnrType'].mode()[0]\n",
    "test_data['MasVnrType'] = test_data['MasVnrType'].fillna(temp)"
   ]
  },
  {
   "cell_type": "code",
   "execution_count": 112,
   "id": "51a4208a",
   "metadata": {},
   "outputs": [],
   "source": [
    "temp = test_data['MasVnrArea'].mode()[0]\n",
    "test_data['MasVnrArea'] = test_data['MasVnrArea'].fillna(temp)"
   ]
  },
  {
   "cell_type": "code",
   "execution_count": 113,
   "id": "5ffc97cc",
   "metadata": {},
   "outputs": [],
   "source": [
    "test_data['BsmtQual'] = test_data['BsmtQual'].fillna('No Basement')"
   ]
  },
  {
   "cell_type": "code",
   "execution_count": 114,
   "id": "351230b4",
   "metadata": {},
   "outputs": [],
   "source": [
    "test_data['BsmtCond'] = test_data['BsmtCond'].fillna('No Basement')"
   ]
  },
  {
   "cell_type": "code",
   "execution_count": 115,
   "id": "9feeac1e",
   "metadata": {},
   "outputs": [],
   "source": [
    "test_data['BsmtExposure'] = test_data['BsmtExposure'].fillna('No Basement')"
   ]
  },
  {
   "cell_type": "code",
   "execution_count": 116,
   "id": "7afc4b16",
   "metadata": {},
   "outputs": [],
   "source": [
    "test_data['BsmtFinType1'] = test_data['BsmtFinType1'].fillna('No Basement')"
   ]
  },
  {
   "cell_type": "code",
   "execution_count": 117,
   "id": "58738992",
   "metadata": {},
   "outputs": [],
   "source": [
    "test_data['BsmtFinSF1'] = test_data['BsmtFinSF1'].fillna('No Basement')"
   ]
  },
  {
   "cell_type": "code",
   "execution_count": 118,
   "id": "615b3ed7",
   "metadata": {},
   "outputs": [],
   "source": [
    "test_data['BsmtFinType2'] = test_data['BsmtFinType2'].fillna('No Basement')"
   ]
  },
  {
   "cell_type": "code",
   "execution_count": 119,
   "id": "b5b92249",
   "metadata": {},
   "outputs": [],
   "source": [
    "temp = round(test_data['BsmtFinSF2'].mean(),2)\n",
    "test_data['BsmtFinSF2'] = test_data['BsmtFinSF2'].fillna(temp)"
   ]
  },
  {
   "cell_type": "code",
   "execution_count": 120,
   "id": "50131a41",
   "metadata": {},
   "outputs": [],
   "source": [
    "temp = round(test_data['BsmtUnfSF'].mean(), 2)\n",
    "test_data['BsmtUnfSF'] = test_data['BsmtUnfSF'].fillna(temp)"
   ]
  },
  {
   "cell_type": "code",
   "execution_count": 121,
   "id": "3114719c",
   "metadata": {},
   "outputs": [],
   "source": [
    "temp = round(test_data['TotalBsmtSF'].mean(), 2)\n",
    "test_data['TotalBsmtSF'] = test_data['TotalBsmtSF'].fillna(temp)"
   ]
  },
  {
   "cell_type": "code",
   "execution_count": 122,
   "id": "67f431e3",
   "metadata": {},
   "outputs": [],
   "source": [
    "temp = test_data['BsmtFullBath'].mode()[0]\n",
    "test_data['BsmtFullBath'] = test_data['BsmtFullBath'].fillna(temp)"
   ]
  },
  {
   "cell_type": "code",
   "execution_count": 123,
   "id": "9d335c70",
   "metadata": {},
   "outputs": [],
   "source": [
    "temp = test_data['BsmtHalfBath'].mode()[0]\n",
    "test_data['BsmtHalfBath'] = test_data['BsmtHalfBath'].fillna(temp)"
   ]
  },
  {
   "cell_type": "code",
   "execution_count": 124,
   "id": "a65afc47",
   "metadata": {},
   "outputs": [],
   "source": [
    "temp = test_data['KitchenQual'].mode()[0]\n",
    "test_data['KitchenQual'] = test_data['KitchenQual'].fillna(temp)"
   ]
  },
  {
   "cell_type": "code",
   "execution_count": 125,
   "id": "590801c5",
   "metadata": {},
   "outputs": [],
   "source": [
    "temp = test_data['Functional'].mode()[0]\n",
    "test_data['Functional'] = test_data['Functional'].fillna(temp)"
   ]
  },
  {
   "cell_type": "code",
   "execution_count": 126,
   "id": "48f7ef74",
   "metadata": {},
   "outputs": [],
   "source": [
    "test_data['FireplaceQu'] = test_data['FireplaceQu'].fillna('No Fireplace')"
   ]
  },
  {
   "cell_type": "code",
   "execution_count": 127,
   "id": "93fc2edd",
   "metadata": {},
   "outputs": [],
   "source": [
    "test_data['GarageType'] = test_data['GarageType'].fillna('No Garage')"
   ]
  },
  {
   "cell_type": "code",
   "execution_count": 128,
   "id": "27e35208",
   "metadata": {},
   "outputs": [],
   "source": [
    "temp = test_data['GarageYrBlt'].mode()[0]\n",
    "test_data['GarageYrBlt'] = test_data['GarageYrBlt'].fillna(temp)"
   ]
  },
  {
   "cell_type": "code",
   "execution_count": 129,
   "id": "06de5004",
   "metadata": {},
   "outputs": [],
   "source": [
    "test_data['GarageFinish'] = test_data['GarageFinish'].fillna('No Garage')"
   ]
  },
  {
   "cell_type": "code",
   "execution_count": 130,
   "id": "cb465d07",
   "metadata": {},
   "outputs": [],
   "source": [
    "temp = test_data['GarageCars'].mode()[0]\n",
    "test_data['GarageCars'] = test_data['GarageCars'].fillna(temp)"
   ]
  },
  {
   "cell_type": "code",
   "execution_count": 131,
   "id": "a8a10d38",
   "metadata": {},
   "outputs": [],
   "source": [
    "temp = round(test_data['GarageArea'].mean(), 2)\n",
    "test_data['GarageArea'] = test_data['GarageArea'].fillna(temp)"
   ]
  },
  {
   "cell_type": "code",
   "execution_count": 132,
   "id": "ecad53e7",
   "metadata": {},
   "outputs": [],
   "source": [
    "test_data['GarageQual'] = test_data['GarageQual'].fillna('No Garage')"
   ]
  },
  {
   "cell_type": "code",
   "execution_count": 133,
   "id": "8f484756",
   "metadata": {},
   "outputs": [],
   "source": [
    "test_data['GarageCond'] = test_data['GarageCond'].fillna('No Garage')"
   ]
  },
  {
   "cell_type": "code",
   "execution_count": 134,
   "id": "0d27000a",
   "metadata": {},
   "outputs": [],
   "source": [
    "test_data['PoolQC'] = test_data['PoolQC'].fillna('No Pool')"
   ]
  },
  {
   "cell_type": "code",
   "execution_count": 135,
   "id": "55ae34e4",
   "metadata": {},
   "outputs": [],
   "source": [
    "test_data['Fence'] = test_data['Fence'].fillna('No Fence')"
   ]
  },
  {
   "cell_type": "code",
   "execution_count": 136,
   "id": "e01f21d6",
   "metadata": {},
   "outputs": [],
   "source": [
    "test_data['MiscFeature'] = test_data['MiscFeature'].fillna('None')"
   ]
  },
  {
   "cell_type": "code",
   "execution_count": 137,
   "id": "62b4cce2",
   "metadata": {},
   "outputs": [],
   "source": [
    "temp = test_data['SaleType'].mode()[0]\n",
    "test_data['SaleType'] = test_data['SaleType'].fillna(temp)"
   ]
  },
  {
   "cell_type": "code",
   "execution_count": 138,
   "id": "c4258b93",
   "metadata": {},
   "outputs": [
    {
     "data": {
      "text/plain": [
       "Id               0\n",
       "MSSubClass       0\n",
       "MSZoning         0\n",
       "LotFrontage      0\n",
       "LotArea          0\n",
       "Street           0\n",
       "Alley            0\n",
       "LotShape         0\n",
       "LandContour      0\n",
       "Utilities        0\n",
       "LotConfig        0\n",
       "LandSlope        0\n",
       "Neighborhood     0\n",
       "Condition1       0\n",
       "Condition2       0\n",
       "BldgType         0\n",
       "HouseStyle       0\n",
       "OverallQual      0\n",
       "OverallCond      0\n",
       "YearBuilt        0\n",
       "YearRemodAdd     0\n",
       "RoofStyle        0\n",
       "RoofMatl         0\n",
       "Exterior1st      0\n",
       "Exterior2nd      0\n",
       "MasVnrType       0\n",
       "MasVnrArea       0\n",
       "ExterQual        0\n",
       "ExterCond        0\n",
       "Foundation       0\n",
       "BsmtQual         0\n",
       "BsmtCond         0\n",
       "BsmtExposure     0\n",
       "BsmtFinType1     0\n",
       "BsmtFinSF1       0\n",
       "BsmtFinType2     0\n",
       "BsmtFinSF2       0\n",
       "BsmtUnfSF        0\n",
       "TotalBsmtSF      0\n",
       "Heating          0\n",
       "HeatingQC        0\n",
       "CentralAir       0\n",
       "Electrical       0\n",
       "1stFlrSF         0\n",
       "2ndFlrSF         0\n",
       "LowQualFinSF     0\n",
       "GrLivArea        0\n",
       "BsmtFullBath     0\n",
       "BsmtHalfBath     0\n",
       "FullBath         0\n",
       "HalfBath         0\n",
       "BedroomAbvGr     0\n",
       "KitchenAbvGr     0\n",
       "KitchenQual      0\n",
       "TotRmsAbvGrd     0\n",
       "Functional       0\n",
       "Fireplaces       0\n",
       "FireplaceQu      0\n",
       "GarageType       0\n",
       "GarageYrBlt      0\n",
       "GarageFinish     0\n",
       "GarageCars       0\n",
       "GarageArea       0\n",
       "GarageQual       0\n",
       "GarageCond       0\n",
       "PavedDrive       0\n",
       "WoodDeckSF       0\n",
       "OpenPorchSF      0\n",
       "EnclosedPorch    0\n",
       "3SsnPorch        0\n",
       "ScreenPorch      0\n",
       "PoolArea         0\n",
       "PoolQC           0\n",
       "Fence            0\n",
       "MiscFeature      0\n",
       "MiscVal          0\n",
       "MoSold           0\n",
       "YrSold           0\n",
       "SaleType         0\n",
       "SaleCondition    0\n",
       "dtype: int64"
      ]
     },
     "execution_count": 138,
     "metadata": {},
     "output_type": "execute_result"
    }
   ],
   "source": [
    "test_data.isna().sum()"
   ]
  },
  {
   "cell_type": "code",
   "execution_count": 139,
   "id": "999d23ca",
   "metadata": {},
   "outputs": [],
   "source": [
    "cols_to_use = Xnew.columns"
   ]
  },
  {
   "cell_type": "code",
   "execution_count": 140,
   "id": "48b66628",
   "metadata": {},
   "outputs": [
    {
     "data": {
      "text/plain": [
       "Index(['MSSubClass', 'LotArea', 'OverallQual', 'OverallCond', 'YearBuilt',\n",
       "       'YearRemodAdd', 'MasVnrArea', 'BsmtFinSF1', 'BsmtFinSF2', 'TotalBsmtSF',\n",
       "       '1stFlrSF', '2ndFlrSF', 'Fireplaces', 'GarageCars', 'GarageArea',\n",
       "       'WoodDeckSF', 'OpenPorchSF', 'EnclosedPorch', 'ScreenPorch', 'MoSold',\n",
       "       'MSZoning_C (all)', 'MSZoning_FV', 'LandContour_HLS', 'LandContour_Low',\n",
       "       'LotConfig_Corner', 'LotConfig_CulDSac', 'Neighborhood_Blmngtn',\n",
       "       'Neighborhood_BrkSide', 'Neighborhood_CollgCr', 'Neighborhood_Crawfor',\n",
       "       'Neighborhood_Edwards', 'Neighborhood_Gilbert', 'Neighborhood_Mitchel',\n",
       "       'Neighborhood_NAmes', 'Neighborhood_NWAmes', 'Neighborhood_NoRidge',\n",
       "       'Neighborhood_NridgHt', 'Neighborhood_OldTown', 'Neighborhood_StoneBr',\n",
       "       'Condition1_Norm', 'Condition1_RRAe', 'BldgType_TwnhsE',\n",
       "       'HouseStyle_SFoyer', 'Exterior1st_AsbShng', 'Exterior1st_BrkFace',\n",
       "       'Exterior1st_HdBoard', 'Exterior2nd_MetalSd', 'Exterior2nd_Stucco',\n",
       "       'Exterior2nd_VinylSd', 'MasVnrType_Stone', 'ExterQual_Ex',\n",
       "       'ExterQual_Gd', 'ExterCond_TA', 'BsmtQual_Ex', 'BsmtQual_Fa',\n",
       "       'BsmtQual_No Basement', 'BsmtExposure_Gd', 'BsmtExposure_No Basement',\n",
       "       'BsmtFinType1_GLQ', 'BsmtFinType1_LwQ', 'BsmtFinType1_No Basement',\n",
       "       'BsmtFinType1_Unf', 'BsmtFinType2_LwQ', 'BsmtFinType2_No Basement',\n",
       "       'KitchenQual_Ex', 'Functional_Typ', 'FireplaceQu_Gd', 'FireplaceQu_Po',\n",
       "       'GarageType_Attchd', 'GarageType_No Garage', 'GarageFinish_Unf',\n",
       "       'GarageQual_No Garage', 'GarageCond_No Garage', 'SaleType_CWD',\n",
       "       'SaleCondition_Abnorml', 'SaleCondition_Partial'],\n",
       "      dtype='object')"
      ]
     },
     "execution_count": 140,
     "metadata": {},
     "output_type": "execute_result"
    }
   ],
   "source": [
    "cols_to_use"
   ]
  },
  {
   "cell_type": "markdown",
   "id": "f3eee1b0",
   "metadata": {},
   "source": [
    "# Preprocessing"
   ]
  },
  {
   "cell_type": "code",
   "execution_count": 141,
   "id": "372c08aa",
   "metadata": {},
   "outputs": [],
   "source": [
    "# categorical and continous features\n",
    "cat = []\n",
    "con = []\n",
    "\n",
    "for i in test_data.columns:\n",
    "    if(test_data[i].dtypes == \"object\"):\n",
    "        cat.append(i)\n",
    "    else:\n",
    "        con.append(i)"
   ]
  },
  {
   "cell_type": "markdown",
   "id": "d78edc81",
   "metadata": {},
   "source": [
    "### Standardizing continous features"
   ]
  },
  {
   "cell_type": "code",
   "execution_count": 142,
   "id": "94d65066",
   "metadata": {},
   "outputs": [],
   "source": [
    "ss = StandardScaler()\n",
    "T1 = pd.DataFrame(ss.fit_transform(test_data[con]), columns=con)"
   ]
  },
  {
   "cell_type": "markdown",
   "id": "91d4943a",
   "metadata": {},
   "source": [
    "### Encoding categorical features"
   ]
  },
  {
   "cell_type": "code",
   "execution_count": 143,
   "id": "ecba4bbf",
   "metadata": {},
   "outputs": [],
   "source": [
    "T2 = pd.get_dummies(test_data[cat])"
   ]
  },
  {
   "cell_type": "code",
   "execution_count": 144,
   "id": "204c1621",
   "metadata": {},
   "outputs": [],
   "source": [
    "Tnew = T1.join(T2)"
   ]
  },
  {
   "cell_type": "code",
   "execution_count": 145,
   "id": "a1ed6a84",
   "metadata": {},
   "outputs": [
    {
     "ename": "KeyError",
     "evalue": "\"['BsmtFinSF1'] not in index\"",
     "output_type": "error",
     "traceback": [
      "\u001b[1;31m---------------------------------------------------------------------------\u001b[0m",
      "\u001b[1;31mKeyError\u001b[0m                                  Traceback (most recent call last)",
      "Input \u001b[1;32mIn [145]\u001b[0m, in \u001b[0;36m<cell line: 1>\u001b[1;34m()\u001b[0m\n\u001b[1;32m----> 1\u001b[0m \u001b[43mTnew\u001b[49m\u001b[43m[\u001b[49m\u001b[43mcols_to_use\u001b[49m\u001b[43m]\u001b[49m\u001b[38;5;241m.\u001b[39mhead(\u001b[38;5;241m3\u001b[39m)\n",
      "File \u001b[1;32m~\\anaconda3\\lib\\site-packages\\pandas\\core\\frame.py:3511\u001b[0m, in \u001b[0;36mDataFrame.__getitem__\u001b[1;34m(self, key)\u001b[0m\n\u001b[0;32m   3509\u001b[0m     \u001b[38;5;28;01mif\u001b[39;00m is_iterator(key):\n\u001b[0;32m   3510\u001b[0m         key \u001b[38;5;241m=\u001b[39m \u001b[38;5;28mlist\u001b[39m(key)\n\u001b[1;32m-> 3511\u001b[0m     indexer \u001b[38;5;241m=\u001b[39m \u001b[38;5;28;43mself\u001b[39;49m\u001b[38;5;241;43m.\u001b[39;49m\u001b[43mcolumns\u001b[49m\u001b[38;5;241;43m.\u001b[39;49m\u001b[43m_get_indexer_strict\u001b[49m\u001b[43m(\u001b[49m\u001b[43mkey\u001b[49m\u001b[43m,\u001b[49m\u001b[43m \u001b[49m\u001b[38;5;124;43m\"\u001b[39;49m\u001b[38;5;124;43mcolumns\u001b[39;49m\u001b[38;5;124;43m\"\u001b[39;49m\u001b[43m)\u001b[49m[\u001b[38;5;241m1\u001b[39m]\n\u001b[0;32m   3513\u001b[0m \u001b[38;5;66;03m# take() does not accept boolean indexers\u001b[39;00m\n\u001b[0;32m   3514\u001b[0m \u001b[38;5;28;01mif\u001b[39;00m \u001b[38;5;28mgetattr\u001b[39m(indexer, \u001b[38;5;124m\"\u001b[39m\u001b[38;5;124mdtype\u001b[39m\u001b[38;5;124m\"\u001b[39m, \u001b[38;5;28;01mNone\u001b[39;00m) \u001b[38;5;241m==\u001b[39m \u001b[38;5;28mbool\u001b[39m:\n",
      "File \u001b[1;32m~\\anaconda3\\lib\\site-packages\\pandas\\core\\indexes\\base.py:5782\u001b[0m, in \u001b[0;36mIndex._get_indexer_strict\u001b[1;34m(self, key, axis_name)\u001b[0m\n\u001b[0;32m   5779\u001b[0m \u001b[38;5;28;01melse\u001b[39;00m:\n\u001b[0;32m   5780\u001b[0m     keyarr, indexer, new_indexer \u001b[38;5;241m=\u001b[39m \u001b[38;5;28mself\u001b[39m\u001b[38;5;241m.\u001b[39m_reindex_non_unique(keyarr)\n\u001b[1;32m-> 5782\u001b[0m \u001b[38;5;28;43mself\u001b[39;49m\u001b[38;5;241;43m.\u001b[39;49m\u001b[43m_raise_if_missing\u001b[49m\u001b[43m(\u001b[49m\u001b[43mkeyarr\u001b[49m\u001b[43m,\u001b[49m\u001b[43m \u001b[49m\u001b[43mindexer\u001b[49m\u001b[43m,\u001b[49m\u001b[43m \u001b[49m\u001b[43maxis_name\u001b[49m\u001b[43m)\u001b[49m\n\u001b[0;32m   5784\u001b[0m keyarr \u001b[38;5;241m=\u001b[39m \u001b[38;5;28mself\u001b[39m\u001b[38;5;241m.\u001b[39mtake(indexer)\n\u001b[0;32m   5785\u001b[0m \u001b[38;5;28;01mif\u001b[39;00m \u001b[38;5;28misinstance\u001b[39m(key, Index):\n\u001b[0;32m   5786\u001b[0m     \u001b[38;5;66;03m# GH 42790 - Preserve name from an Index\u001b[39;00m\n",
      "File \u001b[1;32m~\\anaconda3\\lib\\site-packages\\pandas\\core\\indexes\\base.py:5845\u001b[0m, in \u001b[0;36mIndex._raise_if_missing\u001b[1;34m(self, key, indexer, axis_name)\u001b[0m\n\u001b[0;32m   5842\u001b[0m     \u001b[38;5;28;01mraise\u001b[39;00m \u001b[38;5;167;01mKeyError\u001b[39;00m(\u001b[38;5;124mf\u001b[39m\u001b[38;5;124m\"\u001b[39m\u001b[38;5;124mNone of [\u001b[39m\u001b[38;5;132;01m{\u001b[39;00mkey\u001b[38;5;132;01m}\u001b[39;00m\u001b[38;5;124m] are in the [\u001b[39m\u001b[38;5;132;01m{\u001b[39;00maxis_name\u001b[38;5;132;01m}\u001b[39;00m\u001b[38;5;124m]\u001b[39m\u001b[38;5;124m\"\u001b[39m)\n\u001b[0;32m   5844\u001b[0m not_found \u001b[38;5;241m=\u001b[39m \u001b[38;5;28mlist\u001b[39m(ensure_index(key)[missing_mask\u001b[38;5;241m.\u001b[39mnonzero()[\u001b[38;5;241m0\u001b[39m]]\u001b[38;5;241m.\u001b[39munique())\n\u001b[1;32m-> 5845\u001b[0m \u001b[38;5;28;01mraise\u001b[39;00m \u001b[38;5;167;01mKeyError\u001b[39;00m(\u001b[38;5;124mf\u001b[39m\u001b[38;5;124m\"\u001b[39m\u001b[38;5;132;01m{\u001b[39;00mnot_found\u001b[38;5;132;01m}\u001b[39;00m\u001b[38;5;124m not in index\u001b[39m\u001b[38;5;124m\"\u001b[39m)\n",
      "\u001b[1;31mKeyError\u001b[0m: \"['BsmtFinSF1'] not in index\""
     ]
    }
   ],
   "source": [
    "Tnew[cols_to_use].head(3)"
   ]
  },
  {
   "cell_type": "code",
   "execution_count": 146,
   "id": "a16d641d",
   "metadata": {},
   "outputs": [],
   "source": [
    "cols = ['BsmtFinSF1']"
   ]
  },
  {
   "cell_type": "markdown",
   "id": "ce353ea0",
   "metadata": {},
   "source": [
    "# Adding dummy columns"
   ]
  },
  {
   "cell_type": "code",
   "execution_count": 147,
   "id": "8286d309",
   "metadata": {},
   "outputs": [],
   "source": [
    "for i in cols:\n",
    "    Tnew[i]=0"
   ]
  },
  {
   "cell_type": "code",
   "execution_count": 148,
   "id": "0fc2c16b",
   "metadata": {},
   "outputs": [],
   "source": [
    "final_test_data = Tnew[cols_to_use]"
   ]
  },
  {
   "cell_type": "markdown",
   "id": "ceb90935",
   "metadata": {},
   "source": [
    "# Making predictions"
   ]
  },
  {
   "cell_type": "code",
   "execution_count": 149,
   "id": "5eec9bac",
   "metadata": {},
   "outputs": [],
   "source": [
    "predicted = model.predict(final_test_data)"
   ]
  },
  {
   "cell_type": "code",
   "execution_count": 150,
   "id": "c0cd77d4",
   "metadata": {},
   "outputs": [
    {
     "data": {
      "text/plain": [
       "array([122106.19688488, 156584.2739363 , 184866.48631757, ...,\n",
       "       166775.99627233, 121712.61045435, 207188.4315525 ])"
      ]
     },
     "execution_count": 150,
     "metadata": {},
     "output_type": "execute_result"
    }
   ],
   "source": [
    "predicted # predicted values"
   ]
  },
  {
   "cell_type": "markdown",
   "id": "bce2a92b",
   "metadata": {},
   "source": [
    "# Saving predicted values to 'sub.csv'"
   ]
  },
  {
   "cell_type": "code",
   "execution_count": 151,
   "id": "e37a2a78",
   "metadata": {},
   "outputs": [
    {
     "data": {
      "text/html": [
       "<div>\n",
       "<style scoped>\n",
       "    .dataframe tbody tr th:only-of-type {\n",
       "        vertical-align: middle;\n",
       "    }\n",
       "\n",
       "    .dataframe tbody tr th {\n",
       "        vertical-align: top;\n",
       "    }\n",
       "\n",
       "    .dataframe thead th {\n",
       "        text-align: right;\n",
       "    }\n",
       "</style>\n",
       "<table border=\"1\" class=\"dataframe\">\n",
       "  <thead>\n",
       "    <tr style=\"text-align: right;\">\n",
       "      <th></th>\n",
       "      <th>SalePrice</th>\n",
       "    </tr>\n",
       "  </thead>\n",
       "  <tbody>\n",
       "    <tr>\n",
       "      <th>0</th>\n",
       "      <td>122106.196885</td>\n",
       "    </tr>\n",
       "    <tr>\n",
       "      <th>1</th>\n",
       "      <td>156584.273936</td>\n",
       "    </tr>\n",
       "    <tr>\n",
       "      <th>2</th>\n",
       "      <td>184866.486318</td>\n",
       "    </tr>\n",
       "    <tr>\n",
       "      <th>3</th>\n",
       "      <td>199466.144742</td>\n",
       "    </tr>\n",
       "    <tr>\n",
       "      <th>4</th>\n",
       "      <td>202066.013955</td>\n",
       "    </tr>\n",
       "  </tbody>\n",
       "</table>\n",
       "</div>"
      ],
      "text/plain": [
       "       SalePrice\n",
       "0  122106.196885\n",
       "1  156584.273936\n",
       "2  184866.486318\n",
       "3  199466.144742\n",
       "4  202066.013955"
      ]
     },
     "execution_count": 151,
     "metadata": {},
     "output_type": "execute_result"
    }
   ],
   "source": [
    "PD = pd.DataFrame(predicted, columns=[\"SalePrice\"])\n",
    "PD.head(5)"
   ]
  },
  {
   "cell_type": "code",
   "execution_count": 152,
   "id": "36eeef11",
   "metadata": {},
   "outputs": [],
   "source": [
    "PD.to_csv('sub.csv', index=False)"
   ]
  }
 ],
 "metadata": {
  "kernelspec": {
   "display_name": "Python 3 (ipykernel)",
   "language": "python",
   "name": "python3"
  },
  "language_info": {
   "codemirror_mode": {
    "name": "ipython",
    "version": 3
   },
   "file_extension": ".py",
   "mimetype": "text/x-python",
   "name": "python",
   "nbconvert_exporter": "python",
   "pygments_lexer": "ipython3",
   "version": "3.9.15"
  },
  "varInspector": {
   "cols": {
    "lenName": 16,
    "lenType": 16,
    "lenVar": 40
   },
   "kernels_config": {
    "python": {
     "delete_cmd_postfix": "",
     "delete_cmd_prefix": "del ",
     "library": "var_list.py",
     "varRefreshCmd": "print(var_dic_list())"
    },
    "r": {
     "delete_cmd_postfix": ") ",
     "delete_cmd_prefix": "rm(",
     "library": "var_list.r",
     "varRefreshCmd": "cat(var_dic_list()) "
    }
   },
   "types_to_exclude": [
    "module",
    "function",
    "builtin_function_or_method",
    "instance",
    "_Feature"
   ],
   "window_display": false
  }
 },
 "nbformat": 4,
 "nbformat_minor": 5
}
